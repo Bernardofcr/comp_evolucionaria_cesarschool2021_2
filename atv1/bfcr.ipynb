{
 "cells": [
  {
   "cell_type": "markdown",
   "id": "9ef1d14e",
   "metadata": {},
   "source": [
    "Atividade 1."
   ]
  },
  {
   "cell_type": "markdown",
   "id": "c2f57e09",
   "metadata": {},
   "source": [
    "Explore a biblioteca DEAP a partir da implementação One Max Problem discutida em sala de aula, apresentando pelo menos 10 variações e as respectivas discussões em um relatório."
   ]
  },
  {
   "cell_type": "markdown",
   "id": "b33a162c",
   "metadata": {},
   "source": [
    "### Apresentação da biblioteca"
   ]
  },
  {
   "cell_type": "code",
   "execution_count": 1,
   "id": "37b63495",
   "metadata": {},
   "outputs": [],
   "source": [
    "import random\n",
    "import numpy as np\n",
    "from deap import algorithms, base, creator, tools"
   ]
  },
  {
   "cell_type": "code",
   "execution_count": 2,
   "id": "4da8ac97",
   "metadata": {},
   "outputs": [],
   "source": [
    "creator.create(\"FitnessMax\", base.Fitness, weights=(1.0,))\n",
    "creator.create(\"Individual\", list, fitness=creator.FitnessMax)"
   ]
  },
  {
   "cell_type": "markdown",
   "id": "ea8577a3",
   "metadata": {},
   "source": [
    "função de avaliação"
   ]
  },
  {
   "cell_type": "code",
   "execution_count": 3,
   "id": "8f001423",
   "metadata": {},
   "outputs": [],
   "source": [
    "def evalOneMax(individual):\n",
    "    return (sum(individual),)"
   ]
  },
  {
   "cell_type": "markdown",
   "id": "073df921",
   "metadata": {},
   "source": [
    "definição de elementos"
   ]
  },
  {
   "cell_type": "markdown",
   "id": "defe0f0a",
   "metadata": {},
   "source": [
    "toolbox"
   ]
  },
  {
   "cell_type": "code",
   "execution_count": 4,
   "id": "d9a4c18e",
   "metadata": {},
   "outputs": [],
   "source": [
    "toolbox=base.Toolbox()\n",
    "#gerador de atributos\n",
    "toolbox.register(\"attr_bool\", random.randint, 0, 1)\n",
    "#inicializador de estrutura\n",
    "toolbox.register(\"individual\", tools.initRepeat, creator.Individual, toolbox.attr_bool, n=100)\n",
    "toolbox.register(\"population\", tools.initRepeat, list, toolbox.individual)"
   ]
  },
  {
   "cell_type": "markdown",
   "id": "aa90e979",
   "metadata": {},
   "source": [
    "operadores genericos"
   ]
  },
  {
   "cell_type": "code",
   "execution_count": 5,
   "id": "a650c89d",
   "metadata": {},
   "outputs": [],
   "source": [
    "toolbox.register(\"evaluate\", evalOneMax)\n",
    "toolbox.register(\"mate\", tools.cxOnePoint)\n",
    "toolbox.register(\"mutate\", tools.mutFlipBit, indpb=0.05)\n",
    "toolbox.register(\"select\", tools.selTournament, tournsize=3)"
   ]
  },
  {
   "cell_type": "markdown",
   "id": "5db9a624",
   "metadata": {},
   "source": [
    "rodar experimento"
   ]
  },
  {
   "cell_type": "code",
   "execution_count": 6,
   "id": "ad6129d6",
   "metadata": {},
   "outputs": [],
   "source": [
    "pop = toolbox.population(n=300)\n",
    "result = algorithms.eaSimple(pop, toolbox, cxpb=.5, mutpb=.2, ngen=10, verbose=False)"
   ]
  },
  {
   "cell_type": "code",
   "execution_count": 7,
   "id": "c596e35d",
   "metadata": {},
   "outputs": [
    {
     "name": "stdout",
     "output_type": "stream",
     "text": [
      "atual melhor fitness: (82,)\n"
     ]
    }
   ],
   "source": [
    "print(\"atual melhor fitness:\", evalOneMax(tools.selBest(pop, k=1)[0]))"
   ]
  },
  {
   "cell_type": "code",
   "execution_count": 8,
   "id": "b51687dc",
   "metadata": {},
   "outputs": [],
   "source": [
    "result=algorithms.eaSimple(pop, toolbox, cxpb=.5,mutpb=.2,ngen=50, verbose=False)"
   ]
  },
  {
   "cell_type": "code",
   "execution_count": 9,
   "id": "f4a6035a",
   "metadata": {},
   "outputs": [
    {
     "name": "stdout",
     "output_type": "stream",
     "text": [
      "atual melhor fitness: (99,)\n"
     ]
    }
   ],
   "source": [
    "print(\"atual melhor fitness:\", evalOneMax(tools.selBest(pop,k=1)[0]))"
   ]
  },
  {
   "cell_type": "markdown",
   "id": "6f7f3079",
   "metadata": {},
   "source": [
    "estatistica"
   ]
  },
  {
   "cell_type": "code",
   "execution_count": 10,
   "id": "8ebe4315",
   "metadata": {},
   "outputs": [],
   "source": [
    "stats = tools.Statistics(key=lambda ind: ind.fitness.values)\n",
    "stats.register(\"avg\", np.mean)\n",
    "stats.register(\"min\", np.min)"
   ]
  },
  {
   "cell_type": "code",
   "execution_count": 11,
   "id": "43b4ba21",
   "metadata": {},
   "outputs": [],
   "source": [
    "pop = toolbox.population(n=300)\n",
    "pop, logbook = algorithms.eaSimple(pop, toolbox, cxpb=.5, mutpb=.2, ngen=50, stats=stats, verbose=False)"
   ]
  },
  {
   "cell_type": "code",
   "execution_count": 12,
   "id": "aecd9c54",
   "metadata": {},
   "outputs": [],
   "source": [
    "gen = logbook.select(\"gen\")\n",
    "fit_min = logbook.select(\"min\")\n",
    "fit_avg = logbook.select(\"avg\")"
   ]
  },
  {
   "cell_type": "code",
   "execution_count": 13,
   "id": "3eb59a9b",
   "metadata": {},
   "outputs": [
    {
     "data": {
      "image/png": "[encoded data removed]",
      "text/plain": [
       "<Figure size 432x288 with 2 Axes>"
      ]
     },
     "metadata": {
      "needs_background": "light"
     },
     "output_type": "display_data"
    }
   ],
   "source": [
    "import matplotlib.pyplot as plt\n",
    "\n",
    "fig, ax1 = plt.subplots()\n",
    "line1 = ax1.plot(gen, fit_min, \"b\", label=\"Minimum\")\n",
    "ax1.set_xlabel(\"Generation\")\n",
    "ax1.set_ylabel(\"Fitness\", color=\"b\")\n",
    "\n",
    "ax2 = ax1.twinx()\n",
    "line2 = ax2.plot(gen, fit_avg, \"r\", label=\"Average\")\n",
    "ax2.set_ylabel(\"Size\", color=\"r\")\n",
    "\n",
    "lns = line1 + line2\n",
    "labs = ['Minimum', 'Average']\n",
    "ax1.legend(lns, labs)\n",
    "\n",
    "plt.show()"
   ]
  },
  {
   "cell_type": "markdown",
   "id": "9bd01a4e",
   "metadata": {},
   "source": [
    "### Exploração de algoritmo"
   ]
  },
  {
   "cell_type": "markdown",
   "id": "de30c1ea",
   "metadata": {},
   "source": [
    "teste 1: reprodução cxTwoPoint"
   ]
  },
  {
   "cell_type": "code",
   "execution_count": 14,
   "id": "693b9407",
   "metadata": {},
   "outputs": [
    {
     "name": "stderr",
     "output_type": "stream",
     "text": [
      "/opt/anaconda3/lib/python3.8/site-packages/deap/creator.py:138: RuntimeWarning: A class named 'FitnessMax' has already been created and it will be overwritten. Consider deleting previous creation of that class or rename it.\n",
      "  warnings.warn(\"A class named '{0}' has already been created and it \"\n",
      "/opt/anaconda3/lib/python3.8/site-packages/deap/creator.py:138: RuntimeWarning: A class named 'Individual' has already been created and it will be overwritten. Consider deleting previous creation of that class or rename it.\n",
      "  warnings.warn(\"A class named '{0}' has already been created and it \"\n"
     ]
    }
   ],
   "source": [
    "creator.create(\"FitnessMax\", base.Fitness, weights=(1.0,))\n",
    "creator.create(\"Individual\", list, fitness=creator.FitnessMax)"
   ]
  },
  {
   "cell_type": "code",
   "execution_count": 15,
   "id": "2591eb9f",
   "metadata": {},
   "outputs": [],
   "source": [
    "toolbox=base.Toolbox()\n",
    "#gerador de atributos\n",
    "toolbox.register(\"attr_bool\", random.randint, 0, 1)\n",
    "#inicializador de estrutura\n",
    "toolbox.register(\"individual\", tools.initRepeat, creator.Individual, toolbox.attr_bool, n=100)\n",
    "toolbox.register(\"population\", tools.initRepeat, list, toolbox.individual)"
   ]
  },
  {
   "cell_type": "code",
   "execution_count": 16,
   "id": "4eac04f9",
   "metadata": {},
   "outputs": [],
   "source": [
    "#estrutura de reprodução\n",
    "toolbox.register(\"evaluate\", evalOneMax)\n",
    "toolbox.register(\"mate\", tools.cxTwoPoint)\n",
    "toolbox.register(\"mutate\", tools.mutFlipBit, indpb=0.05)\n",
    "toolbox.register(\"select\", tools.selTournament, tournsize=3)"
   ]
  },
  {
   "cell_type": "code",
   "execution_count": 17,
   "id": "ee1e7c1f",
   "metadata": {},
   "outputs": [],
   "source": [
    "stats = tools.Statistics(lambda ind: ind.fitness.values)\n",
    "stats.register(\"avg\", np.mean)\n",
    "stats.register(\"std\", np.std)\n",
    "stats.register(\"min\", np.min)\n",
    "stats.register(\"max\", np.max)"
   ]
  },
  {
   "cell_type": "code",
   "execution_count": 18,
   "id": "f41afb1f",
   "metadata": {},
   "outputs": [
    {
     "name": "stdout",
     "output_type": "stream",
     "text": [
      "gen\tnevals\tavg  \tstd    \tmin\tmax\n",
      "0  \t300   \t49.91\t5.15253\t36 \t67 \n",
      "1  \t188   \t54.4067\t4.24986\t44 \t71 \n",
      "2  \t184   \t57.7167\t4.19719\t45 \t71 \n",
      "3  \t162   \t60.89  \t4.023  \t50 \t72 \n",
      "4  \t181   \t64.13  \t3.70582\t53 \t77 \n",
      "5  \t177   \t66.8933\t3.42665\t55 \t77 \n",
      "6  \t195   \t69.4867\t2.90915\t57 \t78 \n",
      "7  \t188   \t71.3533\t2.52094\t62 \t78 \n",
      "8  \t172   \t73.0833\t2.67639\t60 \t80 \n",
      "9  \t169   \t74.6267\t2.46589\t66 \t81 \n",
      "10 \t195   \t75.9833\t2.7622 \t66 \t84 \n",
      "11 \t181   \t77.56  \t2.78084\t70 \t86 \n",
      "12 \t180   \t79.14  \t2.70932\t69 \t86 \n",
      "13 \t170   \t80.66  \t2.80435\t70 \t88 \n",
      "14 \t175   \t82.2133\t2.65979\t71 \t90 \n",
      "15 \t199   \t83.8267\t2.44198\t74 \t90 \n",
      "16 \t171   \t85.04  \t2.69414\t74 \t92 \n",
      "17 \t173   \t86.2867\t2.40925\t78 \t92 \n",
      "18 \t169   \t87.6467\t2.19738\t78 \t92 \n",
      "19 \t182   \t88.5233\t2.2868 \t80 \t92 \n",
      "20 \t174   \t89.1233\t2.44706\t77 \t93 \n",
      "21 \t172   \t90.3167\t1.77099\t84 \t94 \n",
      "22 \t157   \t91.08  \t1.75697\t83 \t94 \n",
      "23 \t158   \t91.4667\t2.09497\t80 \t95 \n",
      "24 \t165   \t91.8233\t2.32783\t83 \t95 \n",
      "25 \t168   \t92.3067\t2.43707\t79 \t97 \n",
      "26 \t175   \t93.3633\t1.90035\t83 \t97 \n",
      "27 \t172   \t93.7067\t2.23621\t83 \t97 \n",
      "28 \t187   \t94.4267\t2.15514\t86 \t98 \n",
      "29 \t169   \t95.11  \t2.06992\t86 \t98 \n",
      "30 \t159   \t95.6433\t2.06788\t86 \t98 \n",
      "31 \t193   \t96.1133\t2.18338\t85 \t99 \n",
      "32 \t179   \t96.71  \t2.02136\t86 \t99 \n",
      "33 \t212   \t96.8567\t2.29698\t88 \t100\n",
      "34 \t172   \t97.3867\t2.15959\t88 \t100\n",
      "35 \t172   \t97.8133\t2.03105\t89 \t100\n",
      "36 \t176   \t98.1533\t2.20374\t86 \t100\n",
      "37 \t170   \t98.09  \t2.35695\t90 \t100\n",
      "38 \t183   \t98.4833\t2.17326\t90 \t100\n",
      "39 \t175   \t98.7167\t2.2737 \t89 \t100\n",
      "40 \t181   \t99.05  \t2.10258\t87 \t100\n",
      "41 \t175   \t98.8567\t2.44734\t88 \t100\n",
      "42 \t181   \t98.89  \t2.33193\t89 \t100\n",
      "43 \t182   \t99.18  \t1.99021\t92 \t100\n",
      "44 \t178   \t98.95  \t2.12936\t92 \t100\n",
      "45 \t191   \t98.8567\t2.28971\t90 \t100\n",
      "46 \t181   \t99.1233\t2.06594\t88 \t100\n",
      "47 \t197   \t98.9833\t2.12047\t90 \t100\n",
      "48 \t175   \t98.8367\t2.28546\t91 \t100\n",
      "49 \t188   \t98.9267\t2.2645 \t90 \t100\n",
      "50 \t173   \t99.03  \t2.11245\t91 \t100\n"
     ]
    }
   ],
   "source": [
    "pop = toolbox.population(n=300)\n",
    "pop, logbook = algorithms.eaSimple(pop, toolbox, cxpb=.5, mutpb=.2, ngen=50, stats=stats, verbose=True)"
   ]
  },
  {
   "cell_type": "code",
   "execution_count": 19,
   "id": "d94bc402",
   "metadata": {},
   "outputs": [],
   "source": [
    "genT1 = logbook.select(\"gen\")\n",
    "fit_minT1 = logbook.select(\"min\")\n",
    "fit_avgT1 = logbook.select(\"avg\")"
   ]
  },
  {
   "cell_type": "code",
   "execution_count": 20,
   "id": "c4e24289",
   "metadata": {},
   "outputs": [
    {
     "data": {
      "image/png": "[encoded data removed]",
      "text/plain": [
       "<Figure size 432x288 with 2 Axes>"
      ]
     },
     "metadata": {
      "needs_background": "light"
     },
     "output_type": "display_data"
    }
   ],
   "source": [
    "fig, ax1 = plt.subplots()\n",
    "line1 = ax1.plot(genT1, fit_minT1, \"b\", label=\"Minimum\")\n",
    "ax1.set_xlabel(\"Generation\")\n",
    "ax1.set_ylabel(\"Fitness\", color=\"b\")\n",
    "\n",
    "ax2 = ax1.twinx()\n",
    "line2 = ax2.plot(genT1, fit_avgT1, \"r\", label=\"Average\")\n",
    "ax2.set_ylabel(\"Size\", color=\"r\")\n",
    "\n",
    "lns = line1 + line2\n",
    "labs = ['Minimum', 'Average']\n",
    "ax1.legend(lns, labs)\n",
    "\n",
    "plt.show()"
   ]
  },
  {
   "cell_type": "markdown",
   "id": "35194bc1",
   "metadata": {},
   "source": [
    "teste 2: aumento de numero de gerações "
   ]
  },
  {
   "cell_type": "code",
   "execution_count": 21,
   "id": "8f7f6a59",
   "metadata": {},
   "outputs": [],
   "source": [
    "creator.create(\"FitnessMax\", base.Fitness, weights=(1.0,))\n",
    "creator.create(\"Individual\", list, fitness=creator.FitnessMax)\n",
    "\n",
    "toolbox=base.Toolbox()\n",
    "#gerador de atributos\n",
    "toolbox.register(\"attr_bool\", random.randint, 0, 1)\n",
    "#inicializador de estrutura\n",
    "toolbox.register(\"individual\", tools.initRepeat, creator.Individual, toolbox.attr_bool, n=100)\n",
    "toolbox.register(\"population\", tools.initRepeat, list, toolbox.individual)\n",
    "\n",
    "#estrutura de reprodução\n",
    "toolbox.register(\"evaluate\", evalOneMax)\n",
    "toolbox.register(\"mate\", tools.cxTwoPoint)\n",
    "toolbox.register(\"mutate\", tools.mutFlipBit, indpb=0.05)\n",
    "toolbox.register(\"select\", tools.selTournament, tournsize=3)"
   ]
  },
  {
   "cell_type": "code",
   "execution_count": 22,
   "id": "64793cc3",
   "metadata": {},
   "outputs": [
    {
     "name": "stdout",
     "output_type": "stream",
     "text": [
      "gen\tnevals\tavg    \tstd    \tmin\tmax\n",
      "0  \t300   \t50.3067\t4.96178\t34 \t62 \n",
      "1  \t179   \t54.1733\t3.88029\t40 \t64 \n",
      "2  \t165   \t57.18  \t3.43137\t48 \t65 \n",
      "3  \t155   \t59.98  \t2.80469\t51 \t69 \n",
      "4  \t161   \t61.8   \t2.81306\t51 \t72 \n",
      "5  \t189   \t63.8267\t3.18276\t52 \t73 \n",
      "6  \t169   \t66.2133\t2.89157\t58 \t75 \n",
      "7  \t181   \t68.2233\t3.11771\t57 \t77 \n",
      "8  \t196   \t70.4267\t2.78411\t63 \t79 \n",
      "9  \t197   \t72.3567\t2.91938\t65 \t82 \n",
      "10 \t181   \t74.15  \t2.9756 \t64 \t82 \n",
      "11 \t196   \t76.1567\t2.88885\t67 \t84 \n",
      "12 \t191   \t77.8167\t2.99049\t69 \t86 \n",
      "13 \t164   \t79.6867\t2.71081\t69 \t88 \n",
      "14 \t180   \t81.0867\t2.85409\t71 \t88 \n",
      "15 \t172   \t82.73  \t2.68523\t72 \t88 \n",
      "16 \t196   \t84.22  \t2.39268\t75 \t89 \n",
      "17 \t182   \t85.3733\t2.63956\t75 \t91 \n",
      "18 \t196   \t86.5967\t2.30954\t76 \t92 \n",
      "19 \t182   \t87.6467\t2.03023\t79 \t92 \n",
      "20 \t174   \t88.6   \t2.08806\t80 \t93 \n",
      "21 \t163   \t89.2333\t2.18607\t81 \t94 \n",
      "22 \t189   \t90.08  \t2.24357\t83 \t94 \n",
      "23 \t157   \t91.0867\t2.13678\t82 \t95 \n",
      "24 \t172   \t91.88  \t2.26103\t84 \t96 \n",
      "25 \t179   \t92.8567\t2.11726\t84 \t96 \n",
      "26 \t174   \t93.4233\t2.27247\t85 \t96 \n",
      "27 \t177   \t94.0567\t2.14012\t86 \t97 \n",
      "28 \t196   \t94.59  \t2.0466 \t87 \t97 \n",
      "29 \t188   \t94.85  \t2.35106\t84 \t98 \n",
      "30 \t180   \t95.3533\t2.30257\t84 \t98 \n",
      "31 \t182   \t95.8033\t2.26671\t86 \t98 \n",
      "32 \t200   \t96.0433\t2.38917\t86 \t98 \n",
      "33 \t178   \t96.47  \t2.37538\t86 \t98 \n",
      "34 \t193   \t96.8967\t2.11644\t87 \t98 \n",
      "35 \t165   \t97.0267\t2.21644\t87 \t98 \n",
      "36 \t190   \t96.93  \t2.22526\t89 \t99 \n",
      "37 \t177   \t97.13  \t2.09756\t88 \t99 \n",
      "38 \t194   \t97.03  \t2.16235\t90 \t99 \n",
      "39 \t169   \t97.3433\t1.89353\t90 \t99 \n",
      "40 \t178   \t97.46  \t2.12957\t85 \t99 \n",
      "41 \t186   \t97.6333\t2.31205\t88 \t99 \n",
      "42 \t188   \t97.61  \t2.45993\t87 \t99 \n",
      "43 \t197   \t97.9667\t2.21936\t88 \t99 \n",
      "44 \t186   \t98.03  \t2.16851\t89 \t100\n",
      "45 \t176   \t97.97  \t2.29835\t86 \t100\n",
      "46 \t191   \t97.9533\t2.21009\t90 \t100\n",
      "47 \t198   \t97.84  \t2.42784\t89 \t100\n",
      "48 \t194   \t98.1467\t2.27563\t88 \t100\n",
      "49 \t167   \t98.2133\t2.49289\t89 \t100\n",
      "50 \t176   \t98.7   \t2.11108\t91 \t100\n",
      "51 \t190   \t98.8533\t2.35482\t90 \t100\n",
      "52 \t156   \t98.95  \t2.17581\t91 \t100\n",
      "53 \t198   \t99.1267\t1.9572 \t90 \t100\n",
      "54 \t181   \t99.0167\t2.17326\t90 \t100\n",
      "55 \t170   \t99.0067\t2.1087 \t90 \t100\n",
      "56 \t176   \t98.8767\t2.37938\t90 \t100\n",
      "57 \t172   \t98.9433\t2.21061\t90 \t100\n",
      "58 \t198   \t98.75  \t2.6884 \t88 \t100\n",
      "59 \t179   \t98.91  \t2.32563\t87 \t100\n",
      "60 \t169   \t99.0333\t2.00638\t92 \t100\n",
      "61 \t172   \t99.0667\t2.09815\t90 \t100\n",
      "62 \t172   \t99.02  \t2.21952\t90 \t100\n",
      "63 \t179   \t98.7967\t2.44308\t89 \t100\n",
      "64 \t189   \t98.9167\t2.28686\t89 \t100\n",
      "65 \t185   \t98.85  \t2.44557\t87 \t100\n",
      "66 \t172   \t98.9033\t2.24811\t91 \t100\n",
      "67 \t190   \t99.0433\t2.26601\t89 \t100\n",
      "68 \t203   \t98.9567\t2.25864\t89 \t100\n",
      "69 \t173   \t99.07  \t2.15834\t88 \t100\n",
      "70 \t175   \t99.1067\t2.16532\t90 \t100\n",
      "71 \t166   \t99.0967\t2.08182\t90 \t100\n",
      "72 \t187   \t99.1067\t2.24543\t86 \t100\n",
      "73 \t180   \t98.87  \t2.30646\t90 \t100\n",
      "74 \t180   \t98.9633\t2.19286\t90 \t100\n",
      "75 \t172   \t98.88  \t2.17078\t89 \t100\n",
      "76 \t182   \t98.8667\t2.41431\t88 \t100\n",
      "77 \t177   \t98.92  \t2.33529\t88 \t100\n",
      "78 \t175   \t98.9067\t2.29157\t91 \t100\n",
      "79 \t189   \t98.82  \t2.33686\t87 \t100\n",
      "80 \t195   \t98.91  \t2.2095 \t91 \t100\n",
      "81 \t177   \t98.99  \t2.18706\t90 \t100\n",
      "82 \t171   \t99.0467\t2.29008\t88 \t100\n",
      "83 \t196   \t98.9233\t2.28563\t89 \t100\n",
      "84 \t181   \t98.83  \t2.24821\t90 \t100\n",
      "85 \t179   \t99.13  \t2.12754\t89 \t100\n",
      "86 \t187   \t99.0167\t2.16558\t89 \t100\n",
      "87 \t172   \t99.25  \t1.89583\t90 \t100\n",
      "88 \t183   \t98.6833\t2.41172\t90 \t100\n",
      "89 \t180   \t99.0133\t2.15402\t88 \t100\n",
      "90 \t175   \t99.31  \t1.7684 \t91 \t100\n",
      "91 \t178   \t98.88  \t2.35208\t90 \t100\n",
      "92 \t181   \t98.7933\t2.41881\t89 \t100\n",
      "93 \t175   \t99.1733\t1.92958\t90 \t100\n",
      "94 \t206   \t99.0633\t2.21495\t89 \t100\n",
      "95 \t177   \t99.0733\t2.12947\t91 \t100\n",
      "96 \t183   \t98.97  \t2.26181\t91 \t100\n",
      "97 \t173   \t99.11  \t2.10347\t91 \t100\n",
      "98 \t167   \t99.0967\t2.09777\t90 \t100\n",
      "99 \t194   \t98.8733\t2.39666\t91 \t100\n",
      "100\t168   \t98.9567\t2.29379\t90 \t100\n"
     ]
    }
   ],
   "source": [
    "pop = toolbox.population(n=300)\n",
    "stats = tools.Statistics(lambda ind: ind.fitness.values)\n",
    "stats.register(\"avg\", np.mean)\n",
    "stats.register(\"std\", np.std)\n",
    "stats.register(\"min\", np.min)\n",
    "stats.register(\"max\", np.max)\n",
    "pop, logbook = algorithms.eaSimple(pop, toolbox, cxpb=.5, mutpb=.2, ngen=100, stats=stats, verbose=True)"
   ]
  },
  {
   "cell_type": "code",
   "execution_count": 23,
   "id": "6005e820",
   "metadata": {},
   "outputs": [
    {
     "data": {
      "image/png": "[encoded data removed]",
      "text/plain": [
       "<Figure size 432x288 with 2 Axes>"
      ]
     },
     "metadata": {
      "needs_background": "light"
     },
     "output_type": "display_data"
    }
   ],
   "source": [
    "genT2 = logbook.select(\"gen\")\n",
    "fit_minT2 = logbook.select(\"min\")\n",
    "fit_avgT2 = logbook.select(\"avg\")\n",
    "\n",
    "fig, ax1 = plt.subplots()\n",
    "line1 = ax1.plot(genT2, fit_minT2, \"b\", label=\"Minimum\")\n",
    "ax1.set_xlabel(\"Generation\")\n",
    "ax1.set_ylabel(\"Fitness\", color=\"b\")\n",
    "\n",
    "ax2 = ax1.twinx()\n",
    "line2 = ax2.plot(genT2, fit_avgT2, \"r\", label=\"Average\")\n",
    "ax2.set_ylabel(\"Size\", color=\"r\")\n",
    "\n",
    "lns = line1 + line2\n",
    "labs = ['Minimum', 'Average']\n",
    "ax1.legend(lns, labs)\n",
    "\n",
    "plt.show()"
   ]
  },
  {
   "cell_type": "markdown",
   "id": "ac55502a",
   "metadata": {},
   "source": [
    "teste 3: mudança em fator de mutação"
   ]
  },
  {
   "cell_type": "code",
   "execution_count": 24,
   "id": "aa8c1fd3",
   "metadata": {},
   "outputs": [],
   "source": [
    "creator.create(\"FitnessMax\", base.Fitness, weights=(1.0,))\n",
    "creator.create(\"Individual\", list, fitness=creator.FitnessMax)\n",
    "\n",
    "toolbox=base.Toolbox()\n",
    "#gerador de atributos\n",
    "toolbox.register(\"attr_bool\", random.randint, 0, 1)\n",
    "#inicializador de estrutura\n",
    "toolbox.register(\"individual\", tools.initRepeat, creator.Individual, toolbox.attr_bool, n=100)\n",
    "toolbox.register(\"population\", tools.initRepeat, list, toolbox.individual)\n",
    "\n",
    "#estrutura de reprodução\n",
    "toolbox.register(\"evaluate\", evalOneMax)\n",
    "toolbox.register(\"mate\", tools.cxTwoPoint)\n",
    "toolbox.register(\"mutate\", tools.mutFlipBit, indpb=0.05)\n",
    "toolbox.register(\"select\", tools.selTournament, tournsize=3)"
   ]
  },
  {
   "cell_type": "code",
   "execution_count": 25,
   "id": "5537d94a",
   "metadata": {},
   "outputs": [
    {
     "name": "stdout",
     "output_type": "stream",
     "text": [
      "gen\tnevals\tavg  \tstd    \tmin\tmax\n",
      "0  \t300   \t50.46\t5.11094\t36 \t66 \n",
      "1  \t223   \t54.7033\t4.11282\t43 \t67 \n",
      "2  \t196   \t58.11  \t3.79709\t46 \t71 \n",
      "3  \t213   \t60.8867\t3.31066\t51 \t71 \n",
      "4  \t226   \t63.13  \t3.2259 \t54 \t71 \n",
      "5  \t216   \t65.6167\t3.11176\t57 \t72 \n",
      "6  \t208   \t67.73  \t2.79113\t60 \t75 \n",
      "7  \t218   \t69.1633\t2.80178\t61 \t76 \n",
      "8  \t200   \t70.79  \t2.86924\t61 \t78 \n",
      "9  \t191   \t72.5733\t2.71378\t65 \t80 \n",
      "10 \t207   \t73.74  \t2.88197\t65 \t81 \n",
      "11 \t234   \t75.0267\t3.04291\t66 \t84 \n",
      "12 \t224   \t76.2033\t3.41008\t63 \t84 \n",
      "13 \t211   \t78.1433\t3.42872\t69 \t87 \n",
      "14 \t203   \t79.6867\t3.29977\t72 \t87 \n",
      "15 \t229   \t80.7867\t3.20642\t72 \t88 \n",
      "16 \t207   \t82.35  \t3.32277\t71 \t90 \n",
      "17 \t206   \t83.7333\t3.21282\t73 \t91 \n",
      "18 \t190   \t84.77  \t3.23065\t74 \t94 \n",
      "19 \t224   \t85.8067\t3.20145\t73 \t94 \n",
      "20 \t207   \t86.85  \t2.93613\t77 \t94 \n",
      "21 \t207   \t87.4233\t2.86661\t78 \t93 \n",
      "22 \t212   \t88.1   \t2.81484\t77 \t94 \n",
      "23 \t215   \t88.5067\t3.05013\t78 \t94 \n",
      "24 \t199   \t89.2667\t2.92271\t79 \t95 \n",
      "25 \t199   \t89.8   \t3.04412\t80 \t95 \n",
      "26 \t211   \t90.37  \t3.13259\t77 \t97 \n",
      "27 \t201   \t90.8667\t3.08365\t82 \t97 \n",
      "28 \t204   \t91.4767\t3.0913 \t81 \t97 \n",
      "29 \t204   \t92.4033\t3.00344\t80 \t97 \n",
      "30 \t206   \t92.7433\t3.0173 \t84 \t98 \n",
      "31 \t206   \t93.0933\t3.0862 \t84 \t98 \n",
      "32 \t224   \t93.89  \t2.92539\t83 \t98 \n",
      "33 \t212   \t94.4867\t2.68883\t86 \t98 \n",
      "34 \t204   \t94.8267\t2.89424\t86 \t100\n",
      "35 \t211   \t95.2733\t2.77464\t86 \t99 \n",
      "36 \t212   \t95.17  \t2.95089\t85 \t99 \n",
      "37 \t234   \t95.6233\t2.86032\t83 \t100\n",
      "38 \t212   \t95.8767\t2.90542\t87 \t100\n",
      "39 \t221   \t96.12  \t2.85522\t84 \t100\n",
      "40 \t195   \t96.4967\t2.78268\t84 \t100\n"
     ]
    }
   ],
   "source": [
    "pop = toolbox.population(n=300)\n",
    "stats = tools.Statistics(lambda ind: ind.fitness.values)\n",
    "stats.register(\"avg\", np.mean)\n",
    "stats.register(\"std\", np.std)\n",
    "stats.register(\"min\", np.min)\n",
    "stats.register(\"max\", np.max)\n",
    "pop, logbook = algorithms.eaSimple(pop, toolbox, cxpb=.5, mutpb=.4, ngen=40, stats=stats, verbose=True)"
   ]
  },
  {
   "cell_type": "code",
   "execution_count": 26,
   "id": "c80355a2",
   "metadata": {},
   "outputs": [
    {
     "data": {
      "image/png": "[encoded data removed]",
      "text/plain": [
       "<Figure size 432x288 with 2 Axes>"
      ]
     },
     "metadata": {
      "needs_background": "light"
     },
     "output_type": "display_data"
    }
   ],
   "source": [
    "genT3 = logbook.select(\"gen\")\n",
    "fit_minT3 = logbook.select(\"min\")\n",
    "fit_avgT3 = logbook.select(\"avg\")\n",
    "\n",
    "fig, ax1 = plt.subplots()\n",
    "line1 = ax1.plot(genT3, fit_minT3, \"b\", label=\"Minimum\")\n",
    "ax1.set_xlabel(\"Generation\")\n",
    "ax1.set_ylabel(\"Fitness\", color=\"b\")\n",
    "\n",
    "ax2 = ax1.twinx()\n",
    "line2 = ax2.plot(genT3, fit_avgT3, \"r\", label=\"Average\")\n",
    "ax2.set_ylabel(\"Size\", color=\"r\")\n",
    "\n",
    "lns = line1 + line2\n",
    "labs = ['Minimum', 'Average']\n",
    "ax1.legend(lns, labs)\n",
    "\n",
    "plt.show()"
   ]
  },
  {
   "cell_type": "code",
   "execution_count": 27,
   "id": "1469b4a6",
   "metadata": {},
   "outputs": [
    {
     "name": "stdout",
     "output_type": "stream",
     "text": [
      "gen\tnevals\tavg    \tstd    \tmin\tmax\n",
      "0  \t300   \t49.7833\t5.01296\t35 \t64 \n",
      "1  \t216   \t53.8767\t4.03172\t44 \t63 \n",
      "2  \t235   \t57.1667\t3.51268\t46 \t65 \n",
      "3  \t212   \t59.4633\t3.13507\t49 \t68 \n",
      "4  \t207   \t61.3033\t2.98407\t52 \t70 \n",
      "5  \t215   \t63.3333\t3.05541\t55 \t73 \n",
      "6  \t218   \t65.1033\t3.06366\t55 \t74 \n",
      "7  \t201   \t66.8967\t2.5728 \t60 \t74 \n",
      "8  \t193   \t67.8967\t2.5032 \t61 \t75 \n",
      "9  \t207   \t69.1733\t2.53047\t61 \t76 \n",
      "10 \t216   \t69.9633\t2.68614\t60 \t78 \n",
      "11 \t194   \t71.2   \t2.96985\t61 \t78 \n",
      "12 \t217   \t72.58  \t2.94566\t61 \t80 \n",
      "13 \t211   \t74.0167\t2.92855\t64 \t80 \n",
      "14 \t217   \t75.4333\t2.97078\t63 \t83 \n",
      "15 \t219   \t76.5333\t3.02802\t65 \t83 \n",
      "16 \t220   \t77.7467\t2.69243\t69 \t84 \n",
      "17 \t217   \t78.81  \t2.78219\t69 \t85 \n",
      "18 \t224   \t79.9   \t2.86647\t72 \t87 \n",
      "19 \t208   \t80.9333\t2.76446\t73 \t87 \n",
      "20 \t214   \t81.8033\t2.73946\t72 \t87 \n",
      "21 \t223   \t82.68  \t2.6187 \t74 \t89 \n",
      "22 \t197   \t83.5233\t2.81593\t72 \t91 \n",
      "23 \t207   \t84.45  \t2.89382\t74 \t91 \n",
      "24 \t214   \t85.2367\t3.05188\t75 \t93 \n",
      "25 \t206   \t86.2733\t2.86798\t76 \t93 \n",
      "26 \t202   \t86.6   \t3.10913\t75 \t94 \n",
      "27 \t228   \t87.39  \t2.93108\t79 \t95 \n",
      "28 \t218   \t88.1367\t3.03721\t80 \t95 \n",
      "29 \t214   \t88.61  \t3.30826\t77 \t95 \n",
      "30 \t194   \t90.08  \t3.06816\t81 \t96 \n",
      "31 \t199   \t90.8733\t3.17132\t79 \t96 \n",
      "32 \t231   \t91.6633\t2.94901\t84 \t97 \n",
      "33 \t208   \t92.5233\t2.82656\t82 \t97 \n",
      "34 \t214   \t92.8   \t2.8    \t85 \t97 \n",
      "35 \t207   \t93.4267\t2.85037\t83 \t97 \n",
      "36 \t202   \t93.9867\t2.77365\t86 \t98 \n",
      "37 \t217   \t94.2033\t2.83819\t86 \t98 \n",
      "38 \t211   \t94.4   \t2.89597\t85 \t98 \n",
      "39 \t222   \t94.6333\t2.69547\t86 \t99 \n",
      "40 \t201   \t94.5933\t3.05199\t85 \t99 \n",
      "41 \t205   \t95.0733\t2.79427\t84 \t99 \n",
      "42 \t201   \t95.1667\t2.95954\t84 \t99 \n",
      "43 \t214   \t95.4167\t2.95687\t84 \t99 \n",
      "44 \t208   \t95.6333\t3.04065\t85 \t99 \n",
      "45 \t202   \t96.1533\t2.90915\t87 \t100\n",
      "46 \t201   \t96.2267\t2.96456\t87 \t100\n",
      "47 \t203   \t96.51  \t3.10536\t83 \t100\n",
      "48 \t192   \t97.0267\t2.74213\t87 \t100\n",
      "49 \t206   \t97.1333\t2.87557\t87 \t100\n",
      "50 \t218   \t97.07  \t2.95383\t89 \t100\n",
      "51 \t215   \t97.3033\t2.84921\t88 \t100\n",
      "52 \t219   \t97.27  \t3.04583\t86 \t100\n",
      "53 \t219   \t97.6133\t2.877  \t84 \t100\n",
      "54 \t226   \t97.5333\t3.11805\t85 \t100\n",
      "55 \t221   \t97.7133\t2.98516\t88 \t100\n",
      "56 \t216   \t97.6433\t2.99935\t87 \t100\n",
      "57 \t206   \t97.8167\t2.84542\t88 \t100\n",
      "58 \t192   \t98.1033\t2.60243\t87 \t100\n",
      "59 \t192   \t97.83  \t2.90765\t86 \t100\n",
      "60 \t215   \t97.7433\t2.68901\t90 \t100\n",
      "61 \t202   \t97.4933\t2.96591\t86 \t100\n",
      "62 \t223   \t97.58  \t2.84902\t89 \t100\n",
      "63 \t201   \t97.6367\t2.95375\t89 \t100\n",
      "64 \t202   \t97.9967\t2.68886\t89 \t100\n",
      "65 \t216   \t97.9   \t2.74651\t88 \t100\n",
      "66 \t204   \t97.63  \t2.86352\t87 \t100\n",
      "67 \t204   \t97.4167\t3.01602\t87 \t100\n",
      "68 \t214   \t97.5767\t3.12902\t88 \t100\n",
      "69 \t219   \t97.5967\t2.75935\t88 \t100\n",
      "70 \t206   \t97.5933\t2.93961\t86 \t100\n",
      "71 \t202   \t97.71  \t2.86692\t86 \t100\n",
      "72 \t213   \t97.8267\t2.80178\t88 \t100\n",
      "73 \t210   \t97.63  \t3.06046\t88 \t100\n",
      "74 \t222   \t97.5233\t3.04895\t82 \t100\n",
      "75 \t209   \t97.79  \t2.88662\t88 \t100\n",
      "76 \t224   \t97.57  \t2.90375\t90 \t100\n",
      "77 \t224   \t97.6767\t2.92782\t87 \t100\n",
      "78 \t221   \t97.54  \t2.95439\t89 \t100\n",
      "79 \t225   \t97.72  \t2.85335\t89 \t100\n",
      "80 \t216   \t97.8567\t2.90335\t88 \t100\n",
      "81 \t219   \t97.76  \t2.96576\t87 \t100\n",
      "82 \t215   \t97.6633\t2.91833\t88 \t100\n",
      "83 \t199   \t97.71  \t2.98316\t88 \t100\n",
      "84 \t209   \t97.81  \t2.94854\t88 \t100\n",
      "85 \t198   \t98.0867\t2.71646\t87 \t100\n",
      "86 \t213   \t97.77  \t2.89778\t90 \t100\n",
      "87 \t209   \t97.8667\t2.85929\t88 \t100\n",
      "88 \t199   \t97.6733\t2.93825\t88 \t100\n",
      "89 \t210   \t97.7633\t2.8191 \t89 \t100\n",
      "90 \t207   \t97.5467\t2.93732\t88 \t100\n",
      "91 \t208   \t97.8267\t2.82193\t88 \t100\n",
      "92 \t209   \t97.6467\t2.96229\t88 \t100\n",
      "93 \t210   \t97.8367\t2.8243 \t89 \t100\n",
      "94 \t216   \t97.7633\t2.98116\t88 \t100\n",
      "95 \t199   \t97.5733\t2.90711\t88 \t100\n",
      "96 \t218   \t97.6467\t2.74745\t86 \t100\n",
      "97 \t206   \t97.5367\t2.87437\t89 \t100\n",
      "98 \t205   \t97.5133\t2.98717\t89 \t100\n",
      "99 \t221   \t97.4167\t2.94217\t89 \t100\n",
      "100\t227   \t97.34  \t3.16824\t87 \t100\n"
     ]
    }
   ],
   "source": [
    "stats = tools.Statistics(lambda ind: ind.fitness.values)\n",
    "stats.register(\"avg\", np.mean)\n",
    "stats.register(\"std\", np.std)\n",
    "stats.register(\"min\", np.min)\n",
    "stats.register(\"max\", np.max)\n",
    "pop = toolbox.population(n=300)\n",
    "pop, logbook = algorithms.eaSimple(pop, toolbox, cxpb=.5, mutpb=.4, ngen=100, stats=stats, verbose=True)"
   ]
  },
  {
   "cell_type": "code",
   "execution_count": 28,
   "id": "a1fa217d",
   "metadata": {},
   "outputs": [
    {
     "data": {
      "image/png": "[encoded data removed]",
      "text/plain": [
       "<Figure size 432x288 with 2 Axes>"
      ]
     },
     "metadata": {
      "needs_background": "light"
     },
     "output_type": "display_data"
    }
   ],
   "source": [
    "genT3_2 = logbook.select(\"gen\")\n",
    "fit_minT3_2 = logbook.select(\"min\")\n",
    "fit_avgT3_2 = logbook.select(\"avg\")\n",
    "\n",
    "fig, ax1 = plt.subplots()\n",
    "line1 = ax1.plot(genT3_2, fit_minT3_2, \"b\", label=\"Minimum\")\n",
    "ax1.set_xlabel(\"Generation\")\n",
    "ax1.set_ylabel(\"Fitness\", color=\"b\")\n",
    "\n",
    "ax2 = ax1.twinx()\n",
    "line2 = ax2.plot(genT3_2, fit_avgT3_2, \"r\", label=\"Average\")\n",
    "ax2.set_ylabel(\"Size\", color=\"r\")\n",
    "\n",
    "lns = line1 + line2\n",
    "labs = ['Minimum', 'Average']\n",
    "ax1.legend(lns, labs)\n",
    "\n",
    "plt.show()"
   ]
  },
  {
   "cell_type": "markdown",
   "id": "7e61c00b",
   "metadata": {},
   "source": [
    "Teste 4: redução na probabilidade de mutação"
   ]
  },
  {
   "cell_type": "code",
   "execution_count": 29,
   "id": "347ae619",
   "metadata": {},
   "outputs": [],
   "source": [
    "creator.create(\"FitnessMax\", base.Fitness, weights=(1.0,))\n",
    "creator.create(\"Individual\", list, fitness=creator.FitnessMax)\n",
    "\n",
    "toolbox=base.Toolbox()\n",
    "#gerador de atributos\n",
    "toolbox.register(\"attr_bool\", random.randint, 0, 1)\n",
    "#inicializador de estrutura\n",
    "toolbox.register(\"individual\", tools.initRepeat, creator.Individual, toolbox.attr_bool, n=100)\n",
    "toolbox.register(\"population\", tools.initRepeat, list, toolbox.individual)\n",
    "\n",
    "#estrutura de reprodução\n",
    "toolbox.register(\"evaluate\", evalOneMax)\n",
    "toolbox.register(\"mate\", tools.cxTwoPoint)\n",
    "toolbox.register(\"mutate\", tools.mutFlipBit, indpb=0.05)\n",
    "toolbox.register(\"select\", tools.selTournament, tournsize=3)"
   ]
  },
  {
   "cell_type": "code",
   "execution_count": 30,
   "id": "0ffedc38",
   "metadata": {},
   "outputs": [
    {
     "name": "stdout",
     "output_type": "stream",
     "text": [
      "gen\tnevals\tavg    \tstd    \tmin\tmax\n",
      "0  \t300   \t49.8967\t4.86066\t37 \t63 \n",
      "1  \t154   \t53.77  \t3.9434 \t43 \t64 \n",
      "2  \t177   \t56.89  \t3.48108\t48 \t70 \n",
      "3  \t173   \t59.86  \t3.07686\t50 \t70 \n",
      "4  \t173   \t62.2933\t2.74481\t55 \t70 \n",
      "5  \t156   \t64.5067\t2.78268\t55 \t73 \n",
      "6  \t169   \t66.9233\t2.82208\t59 \t76 \n",
      "7  \t159   \t69.02  \t2.85767\t62 \t77 \n",
      "8  \t179   \t71.38  \t2.54472\t61 \t78 \n",
      "9  \t180   \t73.2133\t2.20026\t65 \t81 \n",
      "10 \t168   \t74.7   \t2.46644\t64 \t81 \n",
      "11 \t172   \t76.35  \t2.29946\t68 \t81 \n",
      "12 \t171   \t77.9767\t2.13607\t69 \t85 \n",
      "13 \t162   \t79.5   \t2.11739\t69 \t85 \n",
      "14 \t156   \t80.8633\t2.07798\t74 \t86 \n",
      "15 \t157   \t82.07  \t2.11938\t72 \t87 \n",
      "16 \t169   \t83.39  \t1.97262\t72 \t87 \n",
      "17 \t155   \t84.6467\t1.54547\t78 \t89 \n",
      "18 \t142   \t85.38  \t1.78949\t77 \t89 \n",
      "19 \t175   \t86.26  \t1.81633\t77 \t91 \n",
      "20 \t167   \t87.39  \t1.83064\t81 \t92 \n",
      "21 \t148   \t88.64  \t1.94003\t79 \t94 \n",
      "22 \t172   \t89.6833\t1.95356\t80 \t95 \n",
      "23 \t183   \t90.6467\t1.96346\t78 \t95 \n",
      "24 \t171   \t91.6667\t1.84992\t84 \t96 \n",
      "25 \t171   \t92.4967\t2.09841\t82 \t97 \n",
      "26 \t147   \t93.5033\t2.06155\t82 \t98 \n",
      "27 \t173   \t94.35  \t2.15581\t85 \t99 \n",
      "28 \t168   \t95.3667\t1.8918 \t86 \t100\n",
      "29 \t165   \t96.1533\t2.30286\t84 \t100\n",
      "30 \t149   \t97.29  \t1.87774\t88 \t100\n",
      "31 \t172   \t97.92  \t2.07532\t86 \t100\n",
      "32 \t175   \t98.5667\t1.79413\t89 \t100\n",
      "33 \t158   \t98.8767\t1.69355\t91 \t100\n",
      "34 \t159   \t99.3033\t1.72569\t89 \t100\n",
      "35 \t166   \t99.56  \t1.47413\t90 \t100\n",
      "36 \t181   \t99.4167\t1.85195\t86 \t100\n",
      "37 \t156   \t99.56  \t1.42352\t92 \t100\n",
      "38 \t174   \t99.36  \t1.82494\t91 \t100\n",
      "39 \t165   \t99.4267\t1.84877\t86 \t100\n",
      "40 \t168   \t99.5433\t1.50603\t88 \t100\n",
      "41 \t149   \t99.53  \t1.70756\t90 \t100\n",
      "42 \t171   \t99.5133\t1.65826\t90 \t100\n",
      "43 \t157   \t99.4467\t1.79271\t89 \t100\n",
      "44 \t181   \t99.51  \t1.55881\t90 \t100\n",
      "45 \t191   \t99.5133\t1.60099\t92 \t100\n",
      "46 \t198   \t99.5367\t1.55198\t90 \t100\n",
      "47 \t147   \t99.5633\t1.49197\t89 \t100\n",
      "48 \t155   \t99.2467\t2.15696\t88 \t100\n",
      "49 \t185   \t99.5067\t1.53078\t90 \t100\n",
      "50 \t154   \t99.57  \t1.46234\t91 \t100\n",
      "51 \t175   \t99.39  \t1.81785\t90 \t100\n",
      "52 \t169   \t99.5533\t1.60846\t91 \t100\n",
      "53 \t164   \t99.54  \t1.60262\t91 \t100\n",
      "54 \t163   \t99.62  \t1.58816\t88 \t100\n",
      "55 \t158   \t99.4433\t1.76261\t89 \t100\n",
      "56 \t164   \t99.56  \t1.49211\t90 \t100\n",
      "57 \t161   \t99.4133\t1.75949\t90 \t100\n",
      "58 \t154   \t99.5133\t1.69602\t90 \t100\n",
      "59 \t173   \t99.6367\t1.36796\t90 \t100\n",
      "60 \t165   \t99.3467\t1.95444\t90 \t100\n",
      "61 \t164   \t99.5533\t1.56647\t90 \t100\n",
      "62 \t168   \t99.5   \t1.62378\t91 \t100\n",
      "63 \t174   \t99.43  \t1.83624\t89 \t100\n",
      "64 \t171   \t99.5367\t1.51723\t90 \t100\n",
      "65 \t182   \t99.2967\t1.91189\t91 \t100\n",
      "66 \t164   \t99.3467\t1.86543\t90 \t100\n",
      "67 \t166   \t99.45  \t1.86748\t89 \t100\n",
      "68 \t160   \t99.5167\t1.70579\t90 \t100\n",
      "69 \t158   \t99.5233\t1.65211\t87 \t100\n",
      "70 \t184   \t99.4267\t1.71599\t90 \t100\n",
      "71 \t158   \t99.69  \t1.17781\t92 \t100\n",
      "72 \t161   \t99.5533\t1.56007\t91 \t100\n",
      "73 \t178   \t99.4833\t1.67622\t90 \t100\n",
      "74 \t167   \t99.5267\t1.48637\t92 \t100\n",
      "75 \t181   \t99.3433\t1.76978\t92 \t100\n",
      "76 \t155   \t99.5433\t1.67375\t88 \t100\n",
      "77 \t176   \t99.5333\t1.64181\t88 \t100\n",
      "78 \t182   \t99.32  \t1.85408\t90 \t100\n",
      "79 \t155   \t99.43  \t1.72388\t91 \t100\n",
      "80 \t153   \t99.6067\t1.33864\t92 \t100\n",
      "81 \t159   \t99.5333\t1.62754\t90 \t100\n",
      "82 \t172   \t99.2567\t2.04551\t87 \t100\n",
      "83 \t164   \t99.4967\t1.61348\t92 \t100\n",
      "84 \t149   \t99.53  \t1.55213\t90 \t100\n",
      "85 \t163   \t99.8233\t0.968911\t90 \t100\n",
      "86 \t174   \t99.4467\t1.71479 \t91 \t100\n",
      "87 \t170   \t99.58  \t1.5374  \t91 \t100\n",
      "88 \t156   \t99.5367\t1.64377 \t90 \t100\n",
      "89 \t161   \t99.5467\t1.66167 \t89 \t100\n",
      "90 \t156   \t99.6233\t1.42412 \t91 \t100\n",
      "91 \t163   \t99.57  \t1.55084 \t91 \t100\n",
      "92 \t162   \t99.48  \t1.68214 \t90 \t100\n",
      "93 \t180   \t99.56  \t1.44674 \t92 \t100\n",
      "94 \t145   \t99.58  \t1.4641  \t92 \t100\n",
      "95 \t156   \t99.5467\t1.52572 \t91 \t100\n",
      "96 \t162   \t99.4633\t1.78755 \t90 \t100\n",
      "97 \t169   \t99.6167\t1.34773 \t93 \t100\n",
      "98 \t147   \t99.47  \t1.69187 \t88 \t100\n",
      "99 \t163   \t99.4067\t1.78735 \t91 \t100\n",
      "100\t160   \t99.65  \t1.40742 \t89 \t100\n"
     ]
    }
   ],
   "source": [
    "stats = tools.Statistics(lambda ind: ind.fitness.values)\n",
    "stats.register(\"avg\", np.mean)\n",
    "stats.register(\"std\", np.std)\n",
    "stats.register(\"min\", np.min)\n",
    "stats.register(\"max\", np.max)\n",
    "pop = toolbox.population(n=300)\n",
    "pop, logbook = algorithms.eaSimple(pop, toolbox, cxpb=.5, mutpb=.1, ngen=100, stats=stats, verbose=True)"
   ]
  },
  {
   "cell_type": "code",
   "execution_count": 31,
   "id": "6d49874d",
   "metadata": {},
   "outputs": [
    {
     "data": {
      "image/png": "[encoded data removed]",
      "text/plain": [
       "<Figure size 432x288 with 2 Axes>"
      ]
     },
     "metadata": {
      "needs_background": "light"
     },
     "output_type": "display_data"
    }
   ],
   "source": [
    "genT4 = logbook.select(\"gen\")\n",
    "fit_minT4 = logbook.select(\"min\")\n",
    "fit_avgT4 = logbook.select(\"avg\")\n",
    "\n",
    "fig, ax1 = plt.subplots()\n",
    "line1 = ax1.plot(genT4, fit_minT4, \"b\", label=\"Minimum\")\n",
    "ax1.set_xlabel(\"Generation\")\n",
    "ax1.set_ylabel(\"Fitness\", color=\"b\")\n",
    "\n",
    "ax2 = ax1.twinx()\n",
    "line2 = ax2.plot(genT4, fit_avgT4, \"r\", label=\"Average\")\n",
    "ax2.set_ylabel(\"Size\", color=\"r\")\n",
    "\n",
    "lns = line1 + line2\n",
    "labs = ['Minimum', 'Average']\n",
    "ax1.legend(lns, labs)\n",
    "\n",
    "plt.show()"
   ]
  },
  {
   "cell_type": "code",
   "execution_count": 32,
   "id": "299111dd",
   "metadata": {},
   "outputs": [],
   "source": [
    "creator.create(\"FitnessMax\", base.Fitness, weights=(1.0,))\n",
    "creator.create(\"Individual\", list, fitness=creator.FitnessMax)\n",
    "\n",
    "toolbox=base.Toolbox()\n",
    "#gerador de atributos\n",
    "toolbox.register(\"attr_bool\", random.randint, 0, 1)\n",
    "#inicializador de estrutura\n",
    "toolbox.register(\"individual\", tools.initRepeat, creator.Individual, toolbox.attr_bool, n=100)\n",
    "toolbox.register(\"population\", tools.initRepeat, list, toolbox.individual)\n",
    "\n",
    "#estrutura de reprodução\n",
    "toolbox.register(\"evaluate\", evalOneMax)\n",
    "toolbox.register(\"mate\", tools.cxTwoPoint)\n",
    "toolbox.register(\"mutate\", tools.mutFlipBit, indpb=0.05)\n",
    "toolbox.register(\"select\", tools.selTournament, tournsize=3)"
   ]
  },
  {
   "cell_type": "code",
   "execution_count": 33,
   "id": "2f85d36d",
   "metadata": {},
   "outputs": [
    {
     "name": "stdout",
     "output_type": "stream",
     "text": [
      "gen\tnevals\tavg    \tstd    \tmin\tmax\n",
      "0  \t300   \t49.9367\t4.91996\t37 \t64 \n",
      "1  \t133   \t54.33  \t4.12889\t44 \t66 \n",
      "2  \t161   \t58.1733\t3.11073\t49 \t66 \n",
      "3  \t174   \t61.0133\t3.29644\t49 \t71 \n",
      "4  \t136   \t63.9533\t2.98292\t57 \t73 \n",
      "5  \t157   \t66.6667\t2.91014\t58 \t75 \n",
      "6  \t129   \t69.17  \t2.70575\t60 \t75 \n",
      "7  \t165   \t71.4267\t2.37584\t63 \t80 \n",
      "8  \t175   \t73.35  \t2.4154 \t65 \t81 \n",
      "9  \t128   \t75.4067\t2.09156\t70 \t81 \n",
      "10 \t159   \t77.2233\t2.09924\t71 \t85 \n",
      "11 \t178   \t78.75  \t2.06095\t70 \t85 \n",
      "12 \t156   \t80.59  \t1.94642\t76 \t87 \n",
      "13 \t154   \t82.2767\t1.7758 \t76 \t88 \n",
      "14 \t128   \t83.68  \t1.83419\t77 \t90 \n",
      "15 \t150   \t85.1933\t1.90332\t80 \t90 \n",
      "16 \t156   \t86.7533\t1.72409\t76 \t91 \n",
      "17 \t148   \t88.1033\t1.58303\t77 \t92 \n",
      "18 \t156   \t89.1533\t1.56306\t81 \t93 \n",
      "19 \t157   \t90.3667\t1.39004\t80 \t93 \n",
      "20 \t169   \t91.3333\t1.24186\t86 \t95 \n",
      "21 \t151   \t92.2767\t1.04887\t89 \t96 \n",
      "22 \t162   \t93.0933\t0.866769\t88 \t95 \n",
      "23 \t153   \t93.72  \t0.825591\t87 \t96 \n",
      "24 \t158   \t94.2367\t0.872156\t87 \t97 \n",
      "25 \t152   \t94.8333\t0.94104 \t88 \t97 \n",
      "26 \t119   \t95.4633\t0.749659\t92 \t98 \n",
      "27 \t152   \t96.0233\t0.793382\t89 \t98 \n",
      "28 \t142   \t96.5633\t0.657766\t94 \t98 \n",
      "29 \t156   \t97.0133\t0.765826\t90 \t98 \n",
      "30 \t148   \t97.3833\t0.72782 \t91 \t98 \n",
      "31 \t178   \t97.8433\t0.582056\t90 \t99 \n",
      "32 \t185   \t97.9767\t0.450321\t92 \t99 \n",
      "33 \t147   \t97.99  \t0.64542 \t90 \t99 \n",
      "34 \t142   \t98.0867\t0.734272\t91 \t99 \n",
      "35 \t151   \t98.3767\t0.54905 \t94 \t99 \n",
      "36 \t150   \t98.74  \t0.593633\t93 \t99 \n",
      "37 \t163   \t98.8967\t0.774159\t91 \t99 \n",
      "38 \t146   \t98.96  \t0.488262\t93 \t99 \n",
      "39 \t182   \t98.9367\t0.593848\t91 \t99 \n",
      "40 \t140   \t98.9767\t0.287731\t95 \t99 \n",
      "41 \t163   \t98.98  \t0.345832\t93 \t99 \n",
      "42 \t166   \t98.9467\t0.480093\t94 \t99 \n",
      "43 \t152   \t98.93  \t0.631216\t90 \t99 \n",
      "44 \t137   \t98.98  \t0.345832\t93 \t99 \n",
      "45 \t143   \t98.9767\t0.287731\t95 \t99 \n",
      "46 \t148   \t98.9433\t0.697703\t90 \t100\n",
      "47 \t159   \t98.9767\t0.525473\t90 \t100\n",
      "48 \t165   \t98.97  \t0.499099\t93 \t100\n",
      "49 \t150   \t99.01  \t0.435775\t93 \t100\n",
      "50 \t151   \t99.0667\t0.596285\t92 \t100\n",
      "51 \t162   \t99.3267\t0.509858\t97 \t100\n",
      "52 \t137   \t99.6133\t0.759708\t93 \t100\n",
      "53 \t181   \t99.88  \t0.677446\t93 \t100\n",
      "54 \t142   \t100    \t0       \t100\t100\n",
      "55 \t147   \t99.9333\t0.684755\t91 \t100\n",
      "56 \t134   \t99.98  \t0.345832\t94 \t100\n",
      "57 \t153   \t99.93  \t0.701261\t90 \t100\n",
      "58 \t135   \t99.9867\t0.230555\t96 \t100\n",
      "59 \t174   \t99.97  \t0.368465\t95 \t100\n",
      "60 \t164   \t99.9233\t0.78153 \t90 \t100\n",
      "61 \t168   \t99.91  \t0.762824\t92 \t100\n",
      "62 \t146   \t99.9333\t0.524934\t95 \t100\n",
      "63 \t160   \t99.9167\t0.723226\t93 \t100\n",
      "64 \t116   \t100    \t0       \t100\t100\n",
      "65 \t132   \t99.9767\t0.350412\t94 \t100\n",
      "66 \t160   \t99.9467\t0.507105\t93 \t100\n",
      "67 \t125   \t99.98  \t0.244131\t97 \t100\n",
      "68 \t148   \t99.9533\t0.620072\t90 \t100\n",
      "69 \t171   \t99.9567\t0.463453\t94 \t100\n",
      "70 \t158   \t99.9667\t0.406885\t95 \t100\n",
      "71 \t158   \t99.9333\t0.63421 \t93 \t100\n",
      "72 \t152   \t100    \t0       \t100\t100\n",
      "73 \t140   \t99.9467\t0.493784\t94 \t100\n",
      "74 \t152   \t99.98  \t0.345832\t94 \t100\n",
      "75 \t139   \t99.97  \t0.464507\t92 \t100\n",
      "76 \t151   \t99.93  \t0.715379\t91 \t100\n",
      "77 \t160   \t100    \t0       \t100\t100\n",
      "78 \t163   \t99.9733\t0.281583\t96 \t100\n",
      "79 \t137   \t99.8767\t0.910012\t91 \t100\n",
      "80 \t155   \t99.9067\t0.67178 \t94 \t100\n",
      "81 \t153   \t99.96  \t0.406284\t95 \t100\n",
      "82 \t168   \t99.9667\t0.334996\t96 \t100\n",
      "83 \t152   \t99.9733\t0.335592\t95 \t100\n",
      "84 \t167   \t99.97  \t0.309462\t96 \t100\n",
      "85 \t160   \t99.9433\t0.476224\t94 \t100\n",
      "86 \t151   \t99.9667\t0.414997\t94 \t100\n",
      "87 \t155   \t99.9533\t0.569639\t93 \t100\n",
      "88 \t151   \t99.94  \t0.613514\t93 \t100\n",
      "89 \t127   \t99.9567\t0.401815\t95 \t100\n",
      "90 \t161   \t99.9867\t0.230555\t96 \t100\n",
      "91 \t151   \t99.9867\t0.230555\t96 \t100\n",
      "92 \t148   \t99.98  \t0.345832\t94 \t100\n",
      "93 \t135   \t99.8933\t0.722465\t93 \t100\n",
      "94 \t156   \t99.8933\t0.749637\t93 \t100\n",
      "95 \t167   \t99.9667\t0.438432\t93 \t100\n",
      "96 \t142   \t99.9333\t0.62361 \t92 \t100\n",
      "97 \t134   \t99.8733\t0.89291 \t91 \t100\n",
      "98 \t148   \t99.9933\t0.115277\t98 \t100\n",
      "99 \t158   \t99.95  \t0.622495\t91 \t100\n",
      "100\t163   \t99.9733\t0.407376\t93 \t100\n"
     ]
    }
   ],
   "source": [
    "stats = tools.Statistics(lambda ind: ind.fitness.values)\n",
    "stats.register(\"avg\", np.mean)\n",
    "stats.register(\"std\", np.std)\n",
    "stats.register(\"min\", np.min)\n",
    "stats.register(\"max\", np.max)\n",
    "pop = toolbox.population(n=300)\n",
    "pop, logbook = algorithms.eaSimple(pop, toolbox, cxpb=.5, mutpb=.01, ngen=100, stats=stats, verbose=True)"
   ]
  },
  {
   "cell_type": "code",
   "execution_count": 34,
   "id": "df6505f3",
   "metadata": {},
   "outputs": [
    {
     "data": {
      "image/png": "[encoded data removed]",
      "text/plain": [
       "<Figure size 432x288 with 2 Axes>"
      ]
     },
     "metadata": {
      "needs_background": "light"
     },
     "output_type": "display_data"
    }
   ],
   "source": [
    "genT4_2 = logbook.select(\"gen\")\n",
    "fit_minT4_2 = logbook.select(\"min\")\n",
    "fit_avgT4_2 = logbook.select(\"avg\")\n",
    "\n",
    "fig, ax1 = plt.subplots()\n",
    "line1 = ax1.plot(genT4_2, fit_minT4_2, \"b\", label=\"Minimum\")\n",
    "ax1.set_xlabel(\"Generation\")\n",
    "ax1.set_ylabel(\"Fitness\", color=\"b\")\n",
    "\n",
    "ax2 = ax1.twinx()\n",
    "line2 = ax2.plot(genT4_2, fit_avgT4_2, \"r\", label=\"Average\")\n",
    "ax2.set_ylabel(\"Size\", color=\"r\")\n",
    "\n",
    "lns = line1 + line2\n",
    "labs = ['Minimum', 'Average']\n",
    "ax1.legend(lns, labs)\n",
    "\n",
    "plt.show()"
   ]
  },
  {
   "cell_type": "markdown",
   "id": "5630691e",
   "metadata": {},
   "source": [
    "Teste 5: mutação embaralhamento de indices"
   ]
  },
  {
   "cell_type": "code",
   "execution_count": 35,
   "id": "6ce4bb57",
   "metadata": {},
   "outputs": [],
   "source": [
    "creator.create(\"FitnessMax\", base.Fitness, weights=(1.0,))\n",
    "creator.create(\"Individual\", list, fitness=creator.FitnessMax)\n",
    "\n",
    "toolbox=base.Toolbox()\n",
    "#gerador de atributos\n",
    "toolbox.register(\"attr_bool\", random.randint, 0, 1)\n",
    "#inicializador de estrutura\n",
    "toolbox.register(\"individual\", tools.initRepeat, creator.Individual, toolbox.attr_bool, n=100)\n",
    "toolbox.register(\"population\", tools.initRepeat, list, toolbox.individual)\n",
    "\n",
    "#estrutura de reprodução\n",
    "toolbox.register(\"evaluate\", evalOneMax)\n",
    "toolbox.register(\"mate\", tools.cxTwoPoint)\n",
    "toolbox.register(\"mutate\", tools.mutShuffleIndexes, indpb=0.05)\n",
    "toolbox.register(\"select\", tools.selTournament, tournsize=3)"
   ]
  },
  {
   "cell_type": "code",
   "execution_count": 36,
   "id": "3b535faa",
   "metadata": {},
   "outputs": [
    {
     "name": "stdout",
     "output_type": "stream",
     "text": [
      "gen\tnevals\tavg    \tstd    \tmin\tmax\n",
      "0  \t300   \t49.4667\t4.87602\t37 \t65 \n",
      "1  \t138   \t53.44  \t3.5128 \t45 \t65 \n",
      "2  \t171   \t56.52  \t3.44232\t46 \t67 \n",
      "3  \t185   \t59.3067\t3.26384\t50 \t68 \n",
      "4  \t151   \t61.94  \t3.02595\t54 \t71 \n",
      "5  \t174   \t64.3967\t2.71894\t57 \t72 \n",
      "6  \t143   \t66.6467\t2.64358\t58 \t76 \n",
      "7  \t181   \t68.6733\t2.54033\t59 \t76 \n",
      "8  \t159   \t70.95  \t2.55881\t59 \t79 \n",
      "9  \t147   \t73.1   \t2.16564\t65 \t80 \n",
      "10 \t162   \t75     \t2.44131\t66 \t85 \n",
      "11 \t172   \t77.06  \t2.21429\t70 \t85 \n",
      "12 \t186   \t78.89  \t2.05213\t74 \t84 \n",
      "13 \t161   \t80.8033\t1.92994\t76 \t87 \n",
      "14 \t164   \t82.26  \t1.66905\t77 \t87 \n",
      "15 \t177   \t83.7433\t1.46428\t80 \t89 \n",
      "16 \t163   \t84.9733\t1.59978\t80 \t90 \n",
      "17 \t158   \t86.3767\t1.65775\t82 \t91 \n",
      "18 \t173   \t87.8133\t1.58277\t83 \t92 \n",
      "19 \t177   \t89.1167\t1.53505\t85 \t94 \n",
      "20 \t164   \t90.3733\t1.43781\t85 \t95 \n",
      "21 \t158   \t91.61  \t1.40638\t86 \t96 \n",
      "22 \t164   \t92.7967\t1.33241\t89 \t96 \n",
      "23 \t168   \t93.91  \t1.21733\t90 \t98 \n",
      "24 \t196   \t94.9933\t0.989927\t92 \t98 \n",
      "25 \t165   \t95.7733\t0.89179 \t92 \t98 \n",
      "26 \t163   \t96.4267\t0.915399\t94 \t99 \n",
      "27 \t158   \t97.0733\t0.853203\t95 \t99 \n",
      "28 \t156   \t97.7467\t0.780484\t96 \t100\n",
      "29 \t159   \t98.3067\t0.725228\t96 \t100\n",
      "30 \t167   \t98.8633\t0.661807\t97 \t100\n",
      "31 \t140   \t99.36  \t0.545038\t98 \t100\n",
      "32 \t170   \t99.7833\t0.419987\t98 \t100\n",
      "33 \t152   \t99.9833\t0.128019\t99 \t100\n",
      "34 \t176   \t100    \t0       \t100\t100\n",
      "35 \t164   \t100    \t0       \t100\t100\n",
      "36 \t162   \t100    \t0       \t100\t100\n",
      "37 \t164   \t100    \t0       \t100\t100\n",
      "38 \t159   \t100    \t0       \t100\t100\n",
      "39 \t150   \t100    \t0       \t100\t100\n",
      "40 \t176   \t100    \t0       \t100\t100\n",
      "41 \t161   \t100    \t0       \t100\t100\n",
      "42 \t171   \t100    \t0       \t100\t100\n",
      "43 \t157   \t100    \t0       \t100\t100\n",
      "44 \t182   \t100    \t0       \t100\t100\n",
      "45 \t156   \t100    \t0       \t100\t100\n",
      "46 \t159   \t100    \t0       \t100\t100\n",
      "47 \t179   \t100    \t0       \t100\t100\n",
      "48 \t162   \t100    \t0       \t100\t100\n",
      "49 \t159   \t100    \t0       \t100\t100\n",
      "50 \t151   \t100    \t0       \t100\t100\n"
     ]
    }
   ],
   "source": [
    "stats = tools.Statistics(lambda ind: ind.fitness.values)\n",
    "stats.register(\"avg\", np.mean)\n",
    "stats.register(\"std\", np.std)\n",
    "stats.register(\"min\", np.min)\n",
    "stats.register(\"max\", np.max)\n",
    "pop = toolbox.population(n=300)\n",
    "pop, logbook = algorithms.eaSimple(pop, toolbox, cxpb=.5, mutpb=.1, ngen=50, stats=stats, verbose=True)"
   ]
  },
  {
   "cell_type": "code",
   "execution_count": 37,
   "id": "7ed0958c",
   "metadata": {},
   "outputs": [
    {
     "data": {
      "image/png": "[encoded data removed]",
      "text/plain": [
       "<Figure size 432x288 with 2 Axes>"
      ]
     },
     "metadata": {
      "needs_background": "light"
     },
     "output_type": "display_data"
    }
   ],
   "source": [
    "genT5 = logbook.select(\"gen\")\n",
    "fit_minT5 = logbook.select(\"min\")\n",
    "fit_avgT5 = logbook.select(\"avg\")\n",
    "\n",
    "fig, ax1 = plt.subplots()\n",
    "line1 = ax1.plot(genT5, fit_minT5, \"b\", label=\"Minimum\")\n",
    "ax1.set_xlabel(\"Generation\")\n",
    "ax1.set_ylabel(\"Fitness\", color=\"b\")\n",
    "\n",
    "ax2 = ax1.twinx()\n",
    "line2 = ax2.plot(genT5, fit_avgT5, \"r\", label=\"Average\")\n",
    "ax2.set_ylabel(\"Size\", color=\"r\")\n",
    "\n",
    "lns = line1 + line2\n",
    "labs = ['Minimum', 'Average']\n",
    "ax1.legend(lns, labs)\n",
    "\n",
    "plt.show()"
   ]
  },
  {
   "cell_type": "code",
   "execution_count": 38,
   "id": "9c73e91c",
   "metadata": {},
   "outputs": [
    {
     "name": "stdout",
     "output_type": "stream",
     "text": [
      "gen\tnevals\tavg    \tstd   \tmin\tmax\n",
      "0  \t300   \t49.7033\t5.0321\t37 \t63 \n",
      "1  \t205   \t53.63  \t3.96313\t42 \t63 \n",
      "2  \t209   \t57.0233\t3.26437\t47 \t64 \n",
      "3  \t201   \t59.9533\t2.93334\t53 \t70 \n",
      "4  \t197   \t62.45  \t2.75575\t54 \t75 \n",
      "5  \t213   \t64.8167\t2.58258\t56 \t75 \n",
      "6  \t206   \t66.8667\t2.84292\t58 \t78 \n",
      "7  \t212   \t69.1067\t3.16259\t60 \t80 \n",
      "8  \t211   \t71.9267\t3.25289\t60 \t81 \n",
      "9  \t202   \t74.5633\t2.86112\t66 \t81 \n",
      "10 \t217   \t77.1833\t2.59546\t69 \t84 \n",
      "11 \t223   \t79.14  \t2.21669\t73 \t87 \n",
      "12 \t205   \t80.8533\t2.09726\t75 \t88 \n",
      "13 \t214   \t82.4767\t2.0517 \t76 \t90 \n",
      "14 \t213   \t84.23  \t1.98757\t78 \t90 \n",
      "15 \t209   \t85.95  \t1.98515\t81 \t92 \n",
      "16 \t215   \t87.6067\t1.94901\t82 \t92 \n",
      "17 \t207   \t89.2433\t1.66657\t83 \t94 \n",
      "18 \t215   \t90.64  \t1.51561\t86 \t96 \n",
      "19 \t193   \t91.8433\t1.37312\t88 \t96 \n",
      "20 \t216   \t93.0067\t1.25961\t89 \t97 \n",
      "21 \t216   \t94.03  \t1.16151\t91 \t98 \n",
      "22 \t204   \t94.9767\t1.08141\t92 \t98 \n",
      "23 \t214   \t95.9267\t1.03342\t93 \t99 \n",
      "24 \t205   \t96.7933\t1.08195\t93 \t100\n",
      "25 \t209   \t97.7333\t0.876863\t95 \t100\n",
      "26 \t213   \t98.39  \t0.751377\t96 \t100\n",
      "27 \t207   \t98.9967\t0.655735\t97 \t100\n",
      "28 \t214   \t99.45  \t0.566422\t98 \t100\n",
      "29 \t223   \t99.8833\t0.321023\t99 \t100\n",
      "30 \t207   \t99.9967\t0.0576387\t99 \t100\n",
      "31 \t195   \t100    \t0        \t100\t100\n",
      "32 \t212   \t100    \t0        \t100\t100\n",
      "33 \t204   \t100    \t0        \t100\t100\n",
      "34 \t199   \t100    \t0        \t100\t100\n",
      "35 \t205   \t100    \t0        \t100\t100\n",
      "36 \t192   \t100    \t0        \t100\t100\n",
      "37 \t191   \t100    \t0        \t100\t100\n",
      "38 \t204   \t100    \t0        \t100\t100\n",
      "39 \t222   \t100    \t0        \t100\t100\n",
      "40 \t212   \t100    \t0        \t100\t100\n",
      "41 \t207   \t100    \t0        \t100\t100\n",
      "42 \t220   \t100    \t0        \t100\t100\n",
      "43 \t219   \t100    \t0        \t100\t100\n",
      "44 \t228   \t100    \t0        \t100\t100\n",
      "45 \t207   \t100    \t0        \t100\t100\n",
      "46 \t211   \t100    \t0        \t100\t100\n",
      "47 \t202   \t100    \t0        \t100\t100\n",
      "48 \t216   \t100    \t0        \t100\t100\n",
      "49 \t195   \t100    \t0        \t100\t100\n",
      "50 \t208   \t100    \t0        \t100\t100\n"
     ]
    }
   ],
   "source": [
    "stats = tools.Statistics(lambda ind: ind.fitness.values)\n",
    "stats.register(\"avg\", np.mean)\n",
    "stats.register(\"std\", np.std)\n",
    "stats.register(\"min\", np.min)\n",
    "stats.register(\"max\", np.max)\n",
    "pop = toolbox.population(n=300)\n",
    "pop, logbook = algorithms.eaSimple(pop, toolbox, cxpb=.5, mutpb=.4, ngen=50, stats=stats, verbose=True)"
   ]
  },
  {
   "cell_type": "code",
   "execution_count": 39,
   "id": "65a0cf84",
   "metadata": {},
   "outputs": [
    {
     "data": {
      "image/png": "[encoded data removed]",
      "text/plain": [
       "<Figure size 432x288 with 2 Axes>"
      ]
     },
     "metadata": {
      "needs_background": "light"
     },
     "output_type": "display_data"
    }
   ],
   "source": [
    "genT5_2 = logbook.select(\"gen\")\n",
    "fit_minT5_2 = logbook.select(\"min\")\n",
    "fit_avgT5_2 = logbook.select(\"avg\")\n",
    "\n",
    "fig, ax1 = plt.subplots()\n",
    "line1 = ax1.plot(genT5_2, fit_minT5_2, \"b\", label=\"Minimum\")\n",
    "ax1.set_xlabel(\"Generation\")\n",
    "ax1.set_ylabel(\"Fitness\", color=\"b\")\n",
    "\n",
    "ax2 = ax1.twinx()\n",
    "line2 = ax2.plot(genT5_2, fit_avgT5_2, \"r\", label=\"Average\")\n",
    "ax2.set_ylabel(\"Size\", color=\"r\")\n",
    "\n",
    "lns = line1 + line2\n",
    "labs = ['Minimum', 'Average']\n",
    "ax1.legend(lns, labs)\n",
    "\n",
    "plt.show()"
   ]
  },
  {
   "cell_type": "markdown",
   "id": "1a789b11",
   "metadata": {},
   "source": [
    "teste 6: seleção natural de piores individuos"
   ]
  },
  {
   "cell_type": "code",
   "execution_count": 42,
   "id": "bfdd5709",
   "metadata": {},
   "outputs": [],
   "source": [
    "creator.create(\"FitnessMax\", base.Fitness, weights=(1.0,))\n",
    "creator.create(\"Individual\", list, fitness=creator.FitnessMax)\n",
    "\n",
    "toolbox=base.Toolbox()\n",
    "#gerador de atributos\n",
    "toolbox.register(\"attr_bool\", random.randint, 0, 1)\n",
    "#inicializador de estrutura\n",
    "toolbox.register(\"individual\", tools.initRepeat, creator.Individual, toolbox.attr_bool, n=100)\n",
    "toolbox.register(\"population\", tools.initRepeat, list, toolbox.individual)\n",
    "\n",
    "#estrutura de reprodução\n",
    "toolbox.register(\"evaluate\", evalOneMax)\n",
    "toolbox.register(\"mate\", tools.cxTwoPoint)\n",
    "toolbox.register(\"mutate\", tools.mutFlipBit, indpb=0.05)\n",
    "toolbox.register(\"select\", tools.selWorst)"
   ]
  },
  {
   "cell_type": "code",
   "execution_count": 45,
   "id": "27ea663c",
   "metadata": {},
   "outputs": [
    {
     "name": "stdout",
     "output_type": "stream",
     "text": [
      "gen\tnevals\tavg  \tstd    \tmin\tmax\n",
      "0  \t300   \t50.14\t4.72304\t37 \t64 \n",
      "1  \t186   \t50.12\t5.09891\t37 \t65 \n",
      "2  \t185   \t50.05\t5.30291\t35 \t65 \n",
      "3  \t195   \t50.0767\t5.60751\t35 \t65 \n",
      "4  \t170   \t50.0367\t5.76096\t35 \t65 \n",
      "5  \t187   \t50     \t6.01831\t32 \t66 \n",
      "6  \t172   \t49.9833\t6.30685\t32 \t66 \n",
      "7  \t187   \t49.9067\t6.49497\t33 \t69 \n",
      "8  \t180   \t49.7533\t6.64473\t33 \t69 \n",
      "9  \t147   \t49.69  \t6.79563\t31 \t72 \n",
      "10 \t188   \t49.6233\t7.07117\t31 \t72 \n",
      "11 \t176   \t49.6667\t7.21357\t32 \t73 \n",
      "12 \t176   \t49.5333\t7.34862\t31 \t72 \n",
      "13 \t170   \t49.5   \t7.37993\t31 \t72 \n",
      "14 \t179   \t49.48  \t7.42673\t29 \t74 \n",
      "15 \t184   \t49.49  \t7.62473\t28 \t73 \n",
      "16 \t170   \t49.4867\t7.68222\t29 \t73 \n",
      "17 \t175   \t49.4333\t7.89845\t29 \t73 \n",
      "18 \t161   \t49.3867\t7.88694\t29 \t73 \n",
      "19 \t187   \t49.37  \t7.97787\t28 \t75 \n",
      "20 \t176   \t49.5167\t8.12135\t25 \t75 \n",
      "21 \t191   \t49.5367\t8.30072\t26 \t76 \n",
      "22 \t170   \t49.58  \t8.50668\t24 \t76 \n",
      "23 \t173   \t49.6067\t8.52713\t25 \t71 \n",
      "24 \t174   \t49.6033\t8.57823\t25 \t71 \n",
      "25 \t171   \t49.5767\t8.64354\t25 \t71 \n",
      "26 \t199   \t49.58  \t8.84818\t25 \t72 \n",
      "27 \t174   \t49.58  \t8.93403\t25 \t75 \n",
      "28 \t171   \t49.6167\t9.01941\t23 \t75 \n",
      "29 \t183   \t49.6067\t9.13703\t23 \t75 \n",
      "30 \t171   \t49.5033\t9.24752\t23 \t75 \n",
      "31 \t176   \t49.4067\t9.31565\t23 \t74 \n",
      "32 \t152   \t49.5   \t9.3347 \t23 \t73 \n",
      "33 \t165   \t49.54  \t9.31209\t24 \t74 \n",
      "34 \t172   \t49.59  \t9.34819\t24 \t74 \n",
      "35 \t166   \t49.6733\t9.32201\t24 \t74 \n",
      "36 \t178   \t49.6933\t9.29082\t24 \t77 \n",
      "37 \t168   \t49.64  \t9.36894\t24 \t77 \n",
      "38 \t185   \t49.71  \t9.39925\t24 \t76 \n",
      "39 \t177   \t49.7467\t9.4574 \t24 \t73 \n",
      "40 \t165   \t49.73  \t9.44195\t23 \t74 \n",
      "41 \t181   \t49.75  \t9.41174\t23 \t76 \n",
      "42 \t153   \t49.7367\t9.36059\t23 \t76 \n",
      "43 \t165   \t49.8267\t9.47153\t25 \t79 \n",
      "44 \t170   \t49.8333\t9.56341\t21 \t78 \n",
      "45 \t189   \t49.65  \t9.59379\t20 \t76 \n",
      "46 \t183   \t49.6233\t9.52548\t20 \t76 \n",
      "47 \t191   \t49.5367\t9.57263\t20 \t76 \n",
      "48 \t192   \t49.55  \t9.61981\t21 \t76 \n",
      "49 \t179   \t49.52  \t9.72126\t16 \t75 \n",
      "50 \t195   \t49.5833\t9.76506\t15 \t75 \n"
     ]
    }
   ],
   "source": [
    "stats = tools.Statistics(lambda ind: ind.fitness.values)\n",
    "stats.register(\"avg\", np.mean)\n",
    "stats.register(\"std\", np.std)\n",
    "stats.register(\"min\", np.min)\n",
    "stats.register(\"max\", np.max)\n",
    "pop = toolbox.population(n=300)\n",
    "pop, logbook = algorithms.eaSimple(pop, toolbox, cxpb=.5, mutpb=.2, ngen=50, stats=stats, verbose=True)"
   ]
  },
  {
   "cell_type": "code",
   "execution_count": 46,
   "id": "a3b59ef4",
   "metadata": {},
   "outputs": [
    {
     "data": {
      "image/png": "[encoded data removed]",
      "text/plain": [
       "<Figure size 432x288 with 2 Axes>"
      ]
     },
     "metadata": {
      "needs_background": "light"
     },
     "output_type": "display_data"
    }
   ],
   "source": [
    "genT6 = logbook.select(\"gen\")\n",
    "fit_minT6 = logbook.select(\"min\")\n",
    "fit_avgT6 = logbook.select(\"avg\")\n",
    "\n",
    "fig, ax1 = plt.subplots()\n",
    "line1 = ax1.plot(genT6, fit_minT6, \"b\", label=\"Minimum\")\n",
    "ax1.set_xlabel(\"Generation\")\n",
    "ax1.set_ylabel(\"Fitness\", color=\"b\")\n",
    "\n",
    "ax2 = ax1.twinx()\n",
    "line2 = ax2.plot(genT6, fit_avgT6, \"r\", label=\"Average\")\n",
    "ax2.set_ylabel(\"Size\", color=\"r\")\n",
    "\n",
    "lns = line1 + line2\n",
    "labs = ['Minimum', 'Average']\n",
    "ax1.legend(lns, labs)\n",
    "\n",
    "plt.show()"
   ]
  },
  {
   "cell_type": "code",
   "execution_count": 47,
   "id": "3683c01c",
   "metadata": {},
   "outputs": [],
   "source": [
    "creator.create(\"FitnessMax\", base.Fitness, weights=(1.0,))\n",
    "creator.create(\"Individual\", list, fitness=creator.FitnessMax)\n",
    "\n",
    "toolbox=base.Toolbox()\n",
    "#gerador de atributos\n",
    "toolbox.register(\"attr_bool\", random.randint, 0, 1)\n",
    "#inicializador de estrutura\n",
    "toolbox.register(\"individual\", tools.initRepeat, creator.Individual, toolbox.attr_bool, n=100)\n",
    "toolbox.register(\"population\", tools.initRepeat, list, toolbox.individual)\n",
    "\n",
    "#estrutura de reprodução\n",
    "toolbox.register(\"evaluate\", evalOneMax)\n",
    "toolbox.register(\"mate\", tools.cxTwoPoint)\n",
    "toolbox.register(\"mutate\", tools.mutFlipBit, indpb=0.05)\n",
    "toolbox.register(\"select\", tools.selBest)"
   ]
  },
  {
   "cell_type": "code",
   "execution_count": 49,
   "id": "11c09874",
   "metadata": {},
   "outputs": [
    {
     "name": "stdout",
     "output_type": "stream",
     "text": [
      "gen\tnevals\tavg  \tstd    \tmin\tmax\n",
      "0  \t300   \t50.28\t5.20656\t38 \t65 \n",
      "1  \t187   \t50.3167\t5.66242\t37 \t67 \n",
      "2  \t187   \t50.24  \t5.94495\t34 \t67 \n",
      "3  \t174   \t50.26  \t6.19132\t34 \t72 \n",
      "4  \t175   \t50.1667\t6.49915\t32 \t72 \n",
      "5  \t185   \t50.1967\t6.80426\t29 \t72 \n",
      "6  \t175   \t50.0967\t6.88723\t27 \t72 \n",
      "7  \t163   \t50.07  \t7.0568 \t31 \t72 \n",
      "8  \t178   \t50.0167\t7.25969\t31 \t72 \n",
      "9  \t165   \t50     \t7.47797\t30 \t73 \n",
      "10 \t181   \t49.8633\t7.69965\t30 \t73 \n",
      "11 \t188   \t49.8533\t7.97737\t28 \t73 \n",
      "12 \t177   \t49.8967\t8.21904\t29 \t73 \n",
      "13 \t173   \t49.87  \t8.39721\t26 \t74 \n",
      "14 \t195   \t49.9233\t8.47924\t28 \t74 \n",
      "15 \t176   \t49.88  \t8.53692\t28 \t74 \n",
      "16 \t190   \t49.83  \t8.64568\t28 \t76 \n",
      "17 \t195   \t49.82  \t8.79551\t24 \t76 \n",
      "18 \t187   \t49.8433\t8.83094\t24 \t76 \n",
      "19 \t181   \t49.8033\t8.83731\t22 \t78 \n",
      "20 \t172   \t49.8967\t8.95317\t22 \t78 \n",
      "21 \t197   \t49.9   \t8.96753\t24 \t78 \n",
      "22 \t178   \t49.9933\t8.96251\t24 \t78 \n",
      "23 \t200   \t49.9767\t9.06768\t24 \t75 \n",
      "24 \t176   \t50.0833\t8.97086\t23 \t75 \n",
      "25 \t180   \t50.08  \t9.04767\t23 \t76 \n",
      "26 \t177   \t50.1167\t8.98683\t27 \t76 \n",
      "27 \t177   \t50.15  \t9.0962 \t27 \t76 \n",
      "28 \t182   \t50.2733\t9.20825\t25 \t76 \n",
      "29 \t178   \t50.2567\t9.29574\t25 \t79 \n",
      "30 \t175   \t50.1667\t9.23249\t25 \t80 \n",
      "31 \t196   \t50.22  \t9.29327\t25 \t80 \n",
      "32 \t198   \t50.16  \t9.43015\t26 \t83 \n",
      "33 \t187   \t50.25  \t9.49215\t27 \t83 \n",
      "34 \t189   \t50.2367\t9.43684\t27 \t83 \n",
      "35 \t184   \t50.3233\t9.38645\t27 \t83 \n",
      "36 \t189   \t50.2633\t9.44179\t27 \t84 \n",
      "37 \t193   \t50.26  \t9.43075\t24 \t82 \n",
      "38 \t183   \t50.2367\t9.40323\t24 \t83 \n",
      "39 \t182   \t50.1233\t9.37024\t24 \t83 \n",
      "40 \t183   \t50.0567\t9.37906\t25 \t83 \n",
      "41 \t173   \t50.1167\t9.38206\t25 \t83 \n",
      "42 \t180   \t50.0067\t9.29372\t25 \t83 \n",
      "43 \t164   \t50.08  \t9.20979\t25 \t81 \n",
      "44 \t186   \t50.0767\t9.27204\t25 \t78 \n",
      "45 \t190   \t50.0733\t9.35386\t27 \t75 \n",
      "46 \t167   \t50.0833\t9.44968\t27 \t75 \n",
      "47 \t175   \t50.1467\t9.46917\t23 \t76 \n",
      "48 \t175   \t50.11  \t9.4367 \t24 \t76 \n",
      "49 \t179   \t50.16  \t9.51145\t24 \t76 \n",
      "50 \t191   \t50.0833\t9.6697 \t25 \t77 \n"
     ]
    }
   ],
   "source": [
    "stats = tools.Statistics(lambda ind: ind.fitness.values)\n",
    "stats.register(\"avg\", np.mean)\n",
    "stats.register(\"std\", np.std)\n",
    "stats.register(\"min\", np.min)\n",
    "stats.register(\"max\", np.max)\n",
    "pop = toolbox.population(n=300)\n",
    "pop, logbook = algorithms.eaSimple(pop, toolbox, cxpb=.5, mutpb=.2, ngen=50, stats=stats, verbose=True)"
   ]
  },
  {
   "cell_type": "code",
   "execution_count": 50,
   "id": "7900ba67",
   "metadata": {},
   "outputs": [
    {
     "data": {
      "image/png": "[encoded data removed]",
      "text/plain": [
       "<Figure size 432x288 with 2 Axes>"
      ]
     },
     "metadata": {
      "needs_background": "light"
     },
     "output_type": "display_data"
    }
   ],
   "source": [
    "genT6_2 = logbook.select(\"gen\")\n",
    "fit_minT6_2 = logbook.select(\"min\")\n",
    "fit_avgT6_2 = logbook.select(\"avg\")\n",
    "\n",
    "fig, ax1 = plt.subplots()\n",
    "line1 = ax1.plot(genT6_2, fit_minT6_2, \"b\", label=\"Minimum\")\n",
    "ax1.set_xlabel(\"Generation\")\n",
    "ax1.set_ylabel(\"Fitness\", color=\"b\")\n",
    "\n",
    "ax2 = ax1.twinx()\n",
    "line2 = ax2.plot(genT6_2, fit_avgT6_2, \"r\", label=\"Average\")\n",
    "ax2.set_ylabel(\"Size\", color=\"r\")\n",
    "\n",
    "lns = line1 + line2\n",
    "labs = ['Minimum', 'Average']\n",
    "ax1.legend(lns, labs)\n",
    "\n",
    "plt.show()"
   ]
  },
  {
   "cell_type": "code",
   "execution_count": 51,
   "id": "80db2e65",
   "metadata": {},
   "outputs": [
    {
     "name": "stdout",
     "output_type": "stream",
     "text": [
      "gen\tnevals\tavg  \tstd    \tmin\tmax\n",
      "0  \t300   \t49.86\t5.16143\t36 \t63 \n",
      "1  \t182   \t49.7867\t5.58699\t36 \t69 \n",
      "2  \t170   \t49.83  \t5.8851 \t33 \t69 \n",
      "3  \t172   \t49.7833\t6.00914\t31 \t69 \n",
      "4  \t177   \t49.77  \t6.33591\t30 \t69 \n",
      "5  \t177   \t49.69  \t6.50235\t30 \t67 \n",
      "6  \t175   \t49.6967\t6.89961\t28 \t70 \n",
      "7  \t176   \t49.6767\t7.07664\t26 \t70 \n",
      "8  \t185   \t49.68  \t7.14779\t30 \t70 \n",
      "9  \t176   \t49.6433\t7.32913\t30 \t71 \n",
      "10 \t203   \t49.7067\t7.50693\t29 \t71 \n",
      "11 \t173   \t49.77  \t7.54523\t29 \t74 \n",
      "12 \t184   \t49.7433\t7.64051\t29 \t74 \n",
      "13 \t180   \t49.75  \t7.81286\t29 \t74 \n",
      "14 \t180   \t49.74  \t7.92501\t29 \t73 \n",
      "15 \t192   \t49.7167\t7.9785 \t29 \t71 \n",
      "16 \t165   \t49.61  \t8.07535\t29 \t71 \n",
      "17 \t169   \t49.5133\t8.15781\t28 \t71 \n",
      "18 \t182   \t49.4867\t8.29878\t28 \t71 \n",
      "19 \t181   \t49.3967\t8.35978\t25 \t72 \n",
      "20 \t185   \t49.4367\t8.49663\t23 \t71 \n",
      "21 \t188   \t49.4667\t8.50464\t26 \t71 \n",
      "22 \t181   \t49.4467\t8.56001\t25 \t71 \n",
      "23 \t203   \t49.3667\t8.53105\t27 \t72 \n",
      "24 \t168   \t49.25  \t8.62984\t27 \t76 \n",
      "25 \t192   \t49.28  \t8.64262\t27 \t76 \n",
      "26 \t188   \t49.4367\t8.59531\t27 \t74 \n",
      "27 \t172   \t49.6033\t8.65444\t23 \t74 \n",
      "28 \t180   \t49.5033\t8.69617\t23 \t74 \n",
      "29 \t182   \t49.5967\t8.74189\t25 \t76 \n",
      "30 \t197   \t49.5967\t8.85705\t25 \t74 \n",
      "31 \t186   \t49.67  \t8.80006\t24 \t74 \n",
      "32 \t171   \t49.7267\t8.87648\t24 \t74 \n",
      "33 \t178   \t49.7367\t8.93499\t22 \t75 \n",
      "34 \t188   \t49.8067\t9.00496\t23 \t75 \n",
      "35 \t188   \t49.84  \t9.13351\t23 \t75 \n",
      "36 \t184   \t49.7867\t9.20767\t21 \t75 \n",
      "37 \t171   \t49.7533\t9.18472\t21 \t75 \n",
      "38 \t183   \t49.7967\t9.29025\t21 \t75 \n",
      "39 \t188   \t49.7667\t9.33661\t21 \t75 \n",
      "40 \t188   \t49.83  \t9.31349\t22 \t74 \n",
      "41 \t182   \t49.8433\t9.35051\t23 \t75 \n",
      "42 \t169   \t49.8433\t9.38148\t23 \t76 \n",
      "43 \t202   \t49.94  \t9.40548\t24 \t76 \n",
      "44 \t171   \t49.9467\t9.36361\t19 \t76 \n",
      "45 \t178   \t50.06  \t9.41398\t18 \t76 \n",
      "46 \t203   \t50.13  \t9.42478\t22 \t76 \n",
      "47 \t183   \t50.1533\t9.34611\t22 \t77 \n",
      "48 \t173   \t50.0833\t9.40725\t21 \t79 \n",
      "49 \t166   \t50.0667\t9.45034\t21 \t78 \n",
      "50 \t186   \t50.16  \t9.4411 \t20 \t78 \n",
      "51 \t184   \t50.21  \t9.42227\t19 \t76 \n",
      "52 \t178   \t50.2467\t9.43429\t19 \t77 \n",
      "53 \t173   \t50.2533\t9.53078\t21 \t78 \n",
      "54 \t166   \t50.3267\t9.55161\t21 \t79 \n",
      "55 \t197   \t50.26  \t9.55994\t21 \t79 \n",
      "56 \t189   \t50.2733\t9.55468\t21 \t79 \n",
      "57 \t179   \t50.2633\t9.65439\t25 \t78 \n",
      "58 \t180   \t50.33  \t9.62779\t23 \t79 \n",
      "59 \t171   \t50.2433\t9.68353\t23 \t79 \n",
      "60 \t170   \t50.2133\t9.60631\t23 \t78 \n",
      "61 \t154   \t50.2   \t9.5366 \t24 \t78 \n",
      "62 \t183   \t50.2533\t9.66898\t24 \t79 \n",
      "63 \t196   \t50.2833\t9.65659\t24 \t80 \n",
      "64 \t176   \t50.2433\t9.69007\t26 \t76 \n",
      "65 \t190   \t50.2233\t9.68367\t26 \t77 \n",
      "66 \t198   \t50.1133\t9.75229\t25 \t76 \n",
      "67 \t189   \t50.16  \t9.70607\t22 \t75 \n",
      "68 \t175   \t50.2567\t9.69145\t22 \t75 \n",
      "69 \t184   \t50.3   \t9.78247\t21 \t75 \n",
      "70 \t196   \t50.3567\t9.73393\t24 \t75 \n",
      "71 \t193   \t50.34  \t9.79138\t24 \t76 \n",
      "72 \t182   \t50.3933\t9.75493\t25 \t79 \n",
      "73 \t190   \t50.5767\t9.69867\t25 \t79 \n",
      "74 \t179   \t50.6367\t9.79547\t25 \t79 \n",
      "75 \t189   \t50.6233\t9.81673\t25 \t81 \n",
      "76 \t171   \t50.6433\t9.86861\t25 \t81 \n",
      "77 \t191   \t50.6967\t9.88592\t24 \t81 \n",
      "78 \t175   \t50.7633\t9.95962\t24 \t82 \n",
      "79 \t167   \t50.81  \t9.96597\t24 \t82 \n",
      "80 \t193   \t50.88  \t9.99228\t26 \t80 \n",
      "81 \t174   \t50.7567\t10.105 \t27 \t80 \n",
      "82 \t171   \t50.8267\t10.0271\t22 \t80 \n",
      "83 \t166   \t50.78  \t9.93   \t23 \t80 \n",
      "84 \t186   \t50.6767\t9.82779\t23 \t79 \n",
      "85 \t187   \t50.75  \t9.83908\t23 \t79 \n",
      "86 \t183   \t50.8733\t9.83348\t26 \t79 \n",
      "87 \t188   \t50.9467\t9.87069\t26 \t79 \n",
      "88 \t191   \t50.8333\t9.83458\t26 \t80 \n",
      "89 \t193   \t50.68  \t9.77945\t24 \t81 \n",
      "90 \t173   \t50.7267\t9.96119\t22 \t81 \n",
      "91 \t194   \t50.71  \t9.87518\t24 \t80 \n",
      "92 \t197   \t50.7033\t9.82965\t23 \t80 \n",
      "93 \t167   \t50.6467\t9.88746\t23 \t80 \n",
      "94 \t183   \t50.5967\t9.91904\t23 \t80 \n",
      "95 \t189   \t50.5767\t9.84636\t22 \t80 \n",
      "96 \t175   \t50.5833\t9.75891\t23 \t80 \n",
      "97 \t188   \t50.5767\t9.71515\t24 \t83 \n",
      "98 \t185   \t50.52  \t9.76744\t24 \t83 \n",
      "99 \t166   \t50.53  \t9.79162\t23 \t83 \n",
      "100\t171   \t50.5833\t9.89123\t23 \t80 \n",
      "101\t179   \t50.71  \t9.87451\t25 \t80 \n",
      "102\t178   \t50.8867\t9.82686\t25 \t80 \n",
      "103\t166   \t50.96  \t9.76243\t22 \t80 \n",
      "104\t199   \t50.9733\t9.79486\t27 \t80 \n",
      "105\t181   \t51.0167\t9.77632\t25 \t79 \n",
      "106\t191   \t51.0267\t9.86742\t26 \t79 \n",
      "107\t181   \t50.9067\t9.88928\t26 \t79 \n",
      "108\t179   \t50.98  \t9.96525\t26 \t79 \n",
      "109\t171   \t50.86  \t9.93011\t26 \t79 \n",
      "110\t185   \t50.87  \t10.0339\t25 \t82 \n",
      "111\t185   \t50.83  \t10.0014\t25 \t77 \n",
      "112\t182   \t50.7667\t9.93976\t25 \t77 \n",
      "113\t170   \t50.79  \t9.87991\t25 \t77 \n",
      "114\t198   \t50.71  \t9.92569\t20 \t77 \n",
      "115\t159   \t50.8   \t9.85732\t21 \t77 \n",
      "116\t178   \t50.8467\t9.86593\t24 \t78 \n",
      "117\t186   \t50.8167\t9.78995\t26 \t79 \n",
      "118\t189   \t50.9067\t9.79615\t29 \t79 \n",
      "119\t178   \t50.8967\t9.7577 \t29 \t78 \n",
      "120\t202   \t50.9133\t9.83628\t25 \t77 \n",
      "121\t169   \t50.8333\t9.9018 \t22 \t77 \n",
      "122\t183   \t50.86  \t9.8597 \t26 \t78 \n",
      "123\t179   \t50.8633\t9.67116\t26 \t79 \n",
      "124\t181   \t50.8667\t9.69135\t25 \t80 \n",
      "125\t168   \t50.91  \t9.74347\t26 \t80 \n",
      "126\t176   \t50.85  \t9.74102\t24 \t80 \n",
      "127\t180   \t50.87  \t9.85697\t25 \t80 \n",
      "128\t157   \t50.8167\t9.92789\t26 \t80 \n",
      "129\t190   \t50.81  \t9.92206\t24 \t80 \n",
      "130\t188   \t50.7733\t10.0161\t23 \t81 \n",
      "131\t163   \t50.8133\t9.98224\t23 \t82 \n",
      "132\t167   \t50.84  \t9.99905\t24 \t82 \n",
      "133\t165   \t50.7433\t10.0647\t21 \t82 \n",
      "134\t186   \t50.79  \t10.0866\t21 \t82 \n",
      "135\t174   \t50.6767\t10.1849\t22 \t82 \n",
      "136\t163   \t50.6233\t10.1677\t22 \t85 \n",
      "137\t203   \t50.6067\t10.197 \t22 \t79 \n",
      "138\t174   \t50.5667\t10.1767\t21 \t79 \n",
      "139\t179   \t50.5433\t10.0466\t21 \t77 \n",
      "140\t181   \t50.5667\t10.1044\t21 \t77 \n",
      "141\t196   \t50.5367\t10.0207\t21 \t77 \n",
      "142\t181   \t50.55  \t10.1653\t18 \t83 \n",
      "143\t178   \t50.5667\t10.241 \t19 \t83 \n",
      "144\t175   \t50.4833\t10.1779\t16 \t82 \n",
      "145\t168   \t50.5667\t10.1999\t16 \t82 \n",
      "146\t170   \t50.4933\t10.099 \t21 \t82 \n",
      "147\t182   \t50.4833\t9.93326\t21 \t82 \n",
      "148\t165   \t50.5   \t10.0265\t21 \t82 \n",
      "149\t182   \t50.3833\t9.8828 \t16 \t82 \n",
      "150\t186   \t50.4433\t9.90118\t23 \t82 \n",
      "151\t185   \t50.5467\t9.81909\t23 \t80 \n",
      "152\t172   \t50.5133\t9.83479\t23 \t80 \n",
      "153\t179   \t50.4433\t9.87016\t24 \t80 \n",
      "154\t180   \t50.61  \t9.84401\t24 \t83 \n",
      "155\t179   \t50.5733\t9.98822\t24 \t83 \n",
      "156\t188   \t50.42  \t9.91885\t22 \t83 \n",
      "157\t168   \t50.4033\t10.0466\t24 \t84 \n",
      "158\t172   \t50.4   \t10.0073\t24 \t84 \n",
      "159\t173   \t50.3633\t10.0049\t25 \t84 \n",
      "160\t188   \t50.41  \t10.0983\t25 \t84 \n",
      "161\t181   \t50.4   \t9.92572\t25 \t85 \n",
      "162\t177   \t50.42  \t9.9855 \t26 \t83 \n",
      "163\t163   \t50.42  \t9.91246\t23 \t78 \n",
      "164\t190   \t50.3333\t9.89658\t23 \t78 \n",
      "165\t170   \t50.3267\t9.84242\t24 \t78 \n",
      "166\t165   \t50.4267\t9.86668\t24 \t78 \n",
      "167\t189   \t50.3967\t9.81152\t24 \t78 \n",
      "168\t179   \t50.44  \t9.68675\t26 \t79 \n",
      "169\t190   \t50.5067\t9.79472\t26 \t76 \n",
      "170\t176   \t50.5133\t9.73566\t27 \t76 \n",
      "171\t200   \t50.3933\t9.7795 \t26 \t79 \n",
      "172\t208   \t50.42  \t9.83448\t26 \t79 \n",
      "173\t169   \t50.4567\t9.91269\t24 \t79 \n",
      "174\t194   \t50.41  \t9.88881\t24 \t77 \n",
      "175\t185   \t50.28  \t9.88778\t23 \t77 \n",
      "176\t176   \t50.3733\t9.75708\t23 \t74 \n",
      "177\t172   \t50.31  \t9.73553\t23 \t79 \n",
      "178\t198   \t50.38  \t9.72843\t24 \t77 \n",
      "179\t175   \t50.3367\t9.71133\t23 \t77 \n",
      "180\t188   \t50.27  \t9.75656\t23 \t77 \n",
      "181\t177   \t50.22  \t9.76686\t23 \t77 \n",
      "182\t169   \t50.1733\t9.59635\t23 \t77 \n",
      "183\t190   \t50.1733\t9.68383\t23 \t77 \n",
      "184\t195   \t50.1867\t9.74261\t22 \t78 \n",
      "185\t182   \t50.0767\t9.58979\t24 \t77 \n",
      "186\t165   \t50.0467\t9.46667\t24 \t77 \n",
      "187\t182   \t50.0567\t9.5121 \t24 \t78 \n",
      "188\t176   \t50.06  \t9.64588\t24 \t77 \n",
      "189\t162   \t50.07  \t9.68496\t24 \t77 \n",
      "190\t190   \t50.0033\t9.71751\t23 \t79 \n",
      "191\t168   \t50.0167\t9.72435\t22 \t79 \n",
      "192\t173   \t50.03  \t9.69342\t19 \t82 \n",
      "193\t187   \t50.0133\t9.68916\t19 \t82 \n",
      "194\t162   \t49.98  \t9.69637\t19 \t82 \n",
      "195\t200   \t49.8967\t9.64362\t21 \t82 \n",
      "196\t159   \t49.8533\t9.637  \t21 \t80 \n",
      "197\t213   \t49.8167\t9.68829\t21 \t80 \n",
      "198\t182   \t49.7967\t9.65999\t16 \t79 \n",
      "199\t159   \t49.7767\t9.65747\t18 \t79 \n",
      "200\t183   \t49.8233\t9.80266\t18 \t81 \n"
     ]
    }
   ],
   "source": [
    "stats = tools.Statistics(lambda ind: ind.fitness.values)\n",
    "stats.register(\"avg\", np.mean)\n",
    "stats.register(\"std\", np.std)\n",
    "stats.register(\"min\", np.min)\n",
    "stats.register(\"max\", np.max)\n",
    "pop = toolbox.population(n=300)\n",
    "pop, logbook = algorithms.eaSimple(pop, toolbox, cxpb=.5, mutpb=.2, ngen=200, stats=stats, verbose=True)"
   ]
  },
  {
   "cell_type": "code",
   "execution_count": 52,
   "id": "33271b97",
   "metadata": {},
   "outputs": [
    {
     "data": {
      "image/png": "[encoded data removed]",
      "text/plain": [
       "<Figure size 432x288 with 2 Axes>"
      ]
     },
     "metadata": {
      "needs_background": "light"
     },
     "output_type": "display_data"
    }
   ],
   "source": [
    "genT6_3 = logbook.select(\"gen\")\n",
    "fit_minT6_3 = logbook.select(\"min\")\n",
    "fit_avgT6_3 = logbook.select(\"avg\")\n",
    "\n",
    "fig, ax1 = plt.subplots()\n",
    "line1 = ax1.plot(genT6_3, fit_minT6_3, \"b\", label=\"Minimum\")\n",
    "ax1.set_xlabel(\"Generation\")\n",
    "ax1.set_ylabel(\"Fitness\", color=\"b\")\n",
    "\n",
    "ax2 = ax1.twinx()\n",
    "line2 = ax2.plot(genT6_3, fit_avgT6_3, \"r\", label=\"Average\")\n",
    "ax2.set_ylabel(\"Size\", color=\"r\")\n",
    "\n",
    "lns = line1 + line2\n",
    "labs = ['Minimum', 'Average']\n",
    "ax1.legend(lns, labs)\n",
    "\n",
    "plt.show()"
   ]
  },
  {
   "cell_type": "code",
   "execution_count": 53,
   "id": "1a88fdb9",
   "metadata": {},
   "outputs": [],
   "source": [
    "creator.create(\"FitnessMax\", base.Fitness, weights=(1.0,))\n",
    "creator.create(\"Individual\", list, fitness=creator.FitnessMax)\n",
    "\n",
    "toolbox=base.Toolbox()\n",
    "#gerador de atributos\n",
    "toolbox.register(\"attr_bool\", random.randint, 0, 1)\n",
    "#inicializador de estrutura\n",
    "toolbox.register(\"individual\", tools.initRepeat, creator.Individual, toolbox.attr_bool, n=100)\n",
    "toolbox.register(\"population\", tools.initRepeat, list, toolbox.individual)\n",
    "\n",
    "#estrutura de reprodução\n",
    "toolbox.register(\"evaluate\", evalOneMax)\n",
    "toolbox.register(\"mate\", tools.cxTwoPoint)\n",
    "toolbox.register(\"mutate\", tools.mutFlipBit, indpb=0.05)\n",
    "toolbox.register(\"select\", tools.selRandom)"
   ]
  },
  {
   "cell_type": "code",
   "execution_count": 54,
   "id": "021466e7",
   "metadata": {},
   "outputs": [
    {
     "name": "stdout",
     "output_type": "stream",
     "text": [
      "gen\tnevals\tavg  \tstd    \tmin\tmax\n",
      "0  \t300   \t49.61\t4.78308\t36 \t66 \n",
      "1  \t183   \t49.1167\t5.02889\t36 \t65 \n",
      "2  \t189   \t48.8733\t5.02566\t39 \t63 \n",
      "3  \t179   \t48.7433\t4.92857\t34 \t60 \n",
      "4  \t174   \t49.0133\t4.64326\t35 \t59 \n",
      "5  \t195   \t48.9567\t4.7583 \t35 \t62 \n",
      "6  \t180   \t48.92  \t4.58624\t34 \t59 \n",
      "7  \t179   \t48.9233\t4.53256\t33 \t60 \n",
      "8  \t189   \t48.8733\t4.53916\t33 \t61 \n",
      "9  \t180   \t48.84  \t4.59286\t33 \t62 \n",
      "10 \t173   \t48.5567\t4.74132\t33 \t62 \n",
      "11 \t174   \t48.1767\t4.69455\t33 \t60 \n",
      "12 \t191   \t48.7233\t4.39547\t34 \t59 \n",
      "13 \t184   \t48.8433\t4.59914\t37 \t63 \n",
      "14 \t154   \t48.43  \t4.74395\t37 \t63 \n",
      "15 \t164   \t48.3367\t4.74025\t38 \t63 \n",
      "16 \t181   \t48.3367\t4.55082\t38 \t61 \n",
      "17 \t178   \t48.2767\t4.70604\t38 \t62 \n",
      "18 \t172   \t48.5667\t4.46903\t37 \t59 \n",
      "19 \t188   \t49.0667\t4.62769\t35 \t62 \n",
      "20 \t174   \t49.4367\t4.71232\t38 \t68 \n",
      "21 \t174   \t49.17  \t4.67772\t38 \t63 \n",
      "22 \t178   \t49.1967\t4.94146\t36 \t63 \n",
      "23 \t170   \t49.2233\t5.30158\t37 \t65 \n",
      "24 \t184   \t49.56  \t5.21981\t38 \t65 \n",
      "25 \t186   \t49.8467\t5.45862\t38 \t63 \n",
      "26 \t190   \t49.4467\t5.11082\t34 \t62 \n",
      "27 \t177   \t49.2833\t5.18939\t37 \t64 \n",
      "28 \t174   \t49.1667\t5.17612\t38 \t66 \n",
      "29 \t169   \t48.8567\t5.20539\t36 \t63 \n",
      "30 \t152   \t48.6767\t5.07597\t36 \t63 \n",
      "31 \t187   \t48.7533\t5.1755 \t36 \t64 \n",
      "32 \t190   \t48.9033\t5.18787\t37 \t64 \n",
      "33 \t192   \t49.1367\t5.27238\t38 \t67 \n",
      "34 \t182   \t49.0067\t5.07083\t36 \t62 \n",
      "35 \t185   \t49.19  \t5.15887\t34 \t64 \n",
      "36 \t180   \t49.3533\t5.29167\t32 \t64 \n",
      "37 \t176   \t49.3433\t5.30334\t31 \t65 \n",
      "38 \t182   \t48.7633\t4.6232 \t32 \t64 \n",
      "39 \t188   \t48.5667\t4.56569\t32 \t64 \n",
      "40 \t163   \t49.0133\t4.36423\t32 \t65 \n",
      "41 \t172   \t48.8767\t4.63265\t32 \t65 \n",
      "42 \t186   \t48.1567\t4.81582\t32 \t63 \n",
      "43 \t171   \t48.1   \t4.59021\t34 \t60 \n",
      "44 \t182   \t48.1867\t4.54223\t36 \t60 \n",
      "45 \t174   \t47.7533\t4.71796\t36 \t60 \n",
      "46 \t187   \t47.6933\t4.85722\t34 \t63 \n",
      "47 \t166   \t47.8   \t4.76165\t34 \t61 \n",
      "48 \t179   \t47.67  \t4.74845\t33 \t58 \n",
      "49 \t182   \t47.7   \t5.02892\t33 \t59 \n",
      "50 \t190   \t47.7667\t5.25854\t34 \t61 \n"
     ]
    }
   ],
   "source": [
    "stats = tools.Statistics(lambda ind: ind.fitness.values)\n",
    "stats.register(\"avg\", np.mean)\n",
    "stats.register(\"std\", np.std)\n",
    "stats.register(\"min\", np.min)\n",
    "stats.register(\"max\", np.max)\n",
    "pop = toolbox.population(n=300)\n",
    "pop, logbook = algorithms.eaSimple(pop, toolbox, cxpb=.5, mutpb=.2, ngen=50, stats=stats, verbose=True)"
   ]
  },
  {
   "cell_type": "code",
   "execution_count": 55,
   "id": "ce6d493e",
   "metadata": {},
   "outputs": [
    {
     "data": {
      "image/png": "[encoded data removed]",
      "text/plain": [
       "<Figure size 432x288 with 2 Axes>"
      ]
     },
     "metadata": {
      "needs_background": "light"
     },
     "output_type": "display_data"
    }
   ],
   "source": [
    "genT6_3 = logbook.select(\"gen\")\n",
    "fit_minT6_3 = logbook.select(\"min\")\n",
    "fit_avgT6_3 = logbook.select(\"avg\")\n",
    "\n",
    "fig, ax1 = plt.subplots()\n",
    "line1 = ax1.plot(genT6_3, fit_minT6_3, \"b\", label=\"Minimum\")\n",
    "ax1.set_xlabel(\"Generation\")\n",
    "ax1.set_ylabel(\"Fitness\", color=\"b\")\n",
    "\n",
    "ax2 = ax1.twinx()\n",
    "line2 = ax2.plot(genT6_3, fit_avgT6_3, \"r\", label=\"Average\")\n",
    "ax2.set_ylabel(\"Size\", color=\"r\")\n",
    "\n",
    "lns = line1 + line2\n",
    "labs = ['Minimum', 'Average']\n",
    "ax1.legend(lns, labs)\n",
    "\n",
    "plt.show()"
   ]
  },
  {
   "cell_type": "markdown",
   "id": "0c447cbf",
   "metadata": {},
   "source": [
    "teste 7: junção de teste 5 e 6"
   ]
  },
  {
   "cell_type": "code",
   "execution_count": 56,
   "id": "0a1255a1",
   "metadata": {},
   "outputs": [],
   "source": [
    "creator.create(\"FitnessMax\", base.Fitness, weights=(1.0,))\n",
    "creator.create(\"Individual\", list, fitness=creator.FitnessMax)\n",
    "\n",
    "toolbox=base.Toolbox()\n",
    "#gerador de atributos\n",
    "toolbox.register(\"attr_bool\", random.randint, 0, 1)\n",
    "#inicializador de estrutura\n",
    "toolbox.register(\"individual\", tools.initRepeat, creator.Individual, toolbox.attr_bool, n=100)\n",
    "toolbox.register(\"population\", tools.initRepeat, list, toolbox.individual)\n",
    "\n",
    "#estrutura de reprodução\n",
    "toolbox.register(\"evaluate\", evalOneMax)\n",
    "toolbox.register(\"mate\", tools.cxTwoPoint)\n",
    "toolbox.register(\"mutate\", tools.mutShuffleIndexes, indpb=0.05),\n",
    "toolbox.register(\"select\", tools.selBest)"
   ]
  },
  {
   "cell_type": "code",
   "execution_count": 57,
   "id": "581bcb69",
   "metadata": {},
   "outputs": [
    {
     "name": "stdout",
     "output_type": "stream",
     "text": [
      "gen\tnevals\tavg    \tstd    \tmin\tmax\n",
      "0  \t300   \t50.3267\t4.65116\t38 \t64 \n",
      "1  \t185   \t50.3267\t5.14133\t37 \t65 \n",
      "2  \t208   \t50.3267\t5.56537\t33 \t68 \n",
      "3  \t174   \t50.3267\t5.82294\t34 \t68 \n",
      "4  \t182   \t50.3267\t6.14057\t34 \t66 \n",
      "5  \t198   \t50.3267\t6.38017\t33 \t67 \n",
      "6  \t165   \t50.3267\t6.66483\t34 \t72 \n",
      "7  \t182   \t50.3267\t6.98951\t33 \t73 \n",
      "8  \t182   \t50.3267\t7.10211\t30 \t75 \n",
      "9  \t175   \t50.3267\t7.39819\t30 \t79 \n",
      "10 \t191   \t50.3267\t7.66898\t31 \t79 \n",
      "11 \t166   \t50.3267\t7.80213\t31 \t79 \n",
      "12 \t183   \t50.3267\t8.06515\t30 \t79 \n",
      "13 \t187   \t50.3267\t8.28814\t30 \t75 \n",
      "14 \t191   \t50.3267\t8.51156\t29 \t75 \n",
      "15 \t183   \t50.3267\t8.71129\t27 \t80 \n",
      "16 \t193   \t50.3267\t8.88782\t24 \t80 \n",
      "17 \t186   \t50.3267\t9.01813\t27 \t81 \n",
      "18 \t195   \t50.3267\t9.19746\t26 \t81 \n",
      "19 \t184   \t50.3267\t9.41134\t26 \t81 \n",
      "20 \t169   \t50.3267\t9.56452\t26 \t81 \n",
      "21 \t171   \t50.3267\t9.69742\t21 \t81 \n",
      "22 \t184   \t50.3267\t9.87657\t22 \t81 \n",
      "23 \t191   \t50.3267\t10.0426\t23 \t82 \n",
      "24 \t176   \t50.3267\t10.1787\t23 \t80 \n",
      "25 \t170   \t50.3267\t10.3586\t24 \t80 \n",
      "26 \t173   \t50.3267\t10.5233\t24 \t82 \n",
      "27 \t176   \t50.3267\t10.6696\t24 \t82 \n",
      "28 \t170   \t50.3267\t10.8444\t24 \t82 \n",
      "29 \t184   \t50.3267\t11.0033\t24 \t82 \n",
      "30 \t164   \t50.3267\t11.1101\t21 \t82 \n",
      "31 \t172   \t50.3267\t11.2208\t21 \t82 \n",
      "32 \t169   \t50.3267\t11.3575\t22 \t82 \n",
      "33 \t202   \t50.3267\t11.5343\t22 \t82 \n",
      "34 \t196   \t50.3267\t11.6762\t21 \t83 \n",
      "35 \t188   \t50.3267\t11.802 \t21 \t86 \n",
      "36 \t175   \t50.3267\t11.8985\t19 \t86 \n",
      "37 \t186   \t50.3267\t12.0327\t19 \t86 \n",
      "38 \t186   \t50.3267\t12.1224\t19 \t84 \n",
      "39 \t182   \t50.3267\t12.2164\t18 \t84 \n",
      "40 \t188   \t50.3267\t12.3502\t18 \t86 \n",
      "41 \t176   \t50.3267\t12.5116\t17 \t87 \n",
      "42 \t189   \t50.3267\t12.6586\t18 \t88 \n",
      "43 \t185   \t50.3267\t12.7674\t18 \t89 \n",
      "44 \t173   \t50.3267\t12.8913\t18 \t88 \n",
      "45 \t181   \t50.3267\t12.9851\t17 \t88 \n",
      "46 \t198   \t50.3267\t13.0831\t18 \t87 \n",
      "47 \t192   \t50.3267\t13.1813\t18 \t87 \n",
      "48 \t184   \t50.3267\t13.3006\t17 \t87 \n",
      "49 \t201   \t50.3267\t13.3868\t15 \t87 \n",
      "50 \t185   \t50.3267\t13.5216\t15 \t87 \n"
     ]
    }
   ],
   "source": [
    "stats = tools.Statistics(lambda ind: ind.fitness.values)\n",
    "stats.register(\"avg\", np.mean)\n",
    "stats.register(\"std\", np.std)\n",
    "stats.register(\"min\", np.min)\n",
    "stats.register(\"max\", np.max)\n",
    "pop = toolbox.population(n=300)\n",
    "pop, logbook = algorithms.eaSimple(pop, toolbox, cxpb=.5, mutpb=.2, ngen=50, stats=stats, verbose=True)"
   ]
  },
  {
   "cell_type": "code",
   "execution_count": 58,
   "id": "27371ecb",
   "metadata": {},
   "outputs": [
    {
     "data": {
      "image/png": "[encoded data removed]",
      "text/plain": [
       "<Figure size 432x288 with 2 Axes>"
      ]
     },
     "metadata": {
      "needs_background": "light"
     },
     "output_type": "display_data"
    }
   ],
   "source": [
    "genT7 = logbook.select(\"gen\")\n",
    "fit_minT7 = logbook.select(\"min\")\n",
    "fit_avgT7 = logbook.select(\"avg\")\n",
    "\n",
    "fig, ax1 = plt.subplots()\n",
    "line1 = ax1.plot(genT7, fit_minT7, \"b\", label=\"Minimum\")\n",
    "ax1.set_xlabel(\"Generation\")\n",
    "ax1.set_ylabel(\"Fitness\", color=\"b\")\n",
    "\n",
    "ax2 = ax1.twinx()\n",
    "line2 = ax2.plot(genT7, fit_avgT7, \"r\", label=\"Average\")\n",
    "ax2.set_ylabel(\"Size\", color=\"r\")\n",
    "\n",
    "lns = line1 + line2\n",
    "labs = ['Minimum', 'Average']\n",
    "ax1.legend(lns, labs)\n",
    "\n",
    "plt.show()"
   ]
  },
  {
   "cell_type": "code",
   "execution_count": 61,
   "id": "a7d464b7",
   "metadata": {},
   "outputs": [
    {
     "name": "stdout",
     "output_type": "stream",
     "text": [
      "gen\tnevals\tavg    \tstd    \tmin\tmax\n",
      "0  \t300   \t49.6167\t4.98027\t35 \t67 \n",
      "1  \t197   \t49.6167\t5.3743 \t35 \t66 \n",
      "2  \t173   \t49.6167\t5.71108\t33 \t67 \n",
      "3  \t169   \t49.6167\t6.05005\t33 \t68 \n",
      "4  \t172   \t49.6167\t6.36891\t29 \t69 \n",
      "5  \t196   \t49.6167\t6.66906\t30 \t71 \n",
      "6  \t178   \t49.6167\t6.94284\t30 \t71 \n",
      "7  \t174   \t49.6167\t7.16587\t28 \t71 \n",
      "8  \t187   \t49.6167\t7.44511\t26 \t71 \n",
      "9  \t186   \t49.6167\t7.64437\t26 \t71 \n",
      "10 \t173   \t49.6167\t7.86234\t26 \t71 \n",
      "11 \t197   \t49.6167\t8.10533\t26 \t71 \n",
      "12 \t197   \t49.6167\t8.32044\t22 \t71 \n",
      "13 \t184   \t49.6167\t8.50704\t21 \t77 \n",
      "14 \t179   \t49.6167\t8.69232\t21 \t77 \n",
      "15 \t193   \t49.6167\t8.87673\t21 \t75 \n",
      "16 \t192   \t49.6167\t9.05077\t19 \t78 \n",
      "17 \t176   \t49.6167\t9.20198\t19 \t78 \n",
      "18 \t156   \t49.6167\t9.31002\t19 \t78 \n",
      "19 \t189   \t49.6167\t9.53256\t19 \t76 \n",
      "20 \t170   \t49.6167\t9.69792\t19 \t75 \n",
      "21 \t158   \t49.6167\t9.80492\t19 \t76 \n",
      "22 \t191   \t49.6167\t9.99482\t19 \t78 \n",
      "23 \t179   \t49.6167\t10.1241\t20 \t78 \n",
      "24 \t173   \t49.6167\t10.3204\t20 \t78 \n",
      "25 \t179   \t49.6167\t10.4701\t21 \t80 \n",
      "26 \t177   \t49.6167\t10.6199\t21 \t80 \n",
      "27 \t182   \t49.6167\t10.7813\t21 \t79 \n",
      "28 \t194   \t49.6167\t10.9043\t20 \t84 \n",
      "29 \t184   \t49.6167\t11.0449\t20 \t84 \n",
      "30 \t182   \t49.6167\t11.2227\t19 \t84 \n",
      "31 \t177   \t49.6167\t11.3896\t19 \t84 \n",
      "32 \t181   \t49.6167\t11.5151\t19 \t89 \n",
      "33 \t184   \t49.6167\t11.6572\t18 \t89 \n",
      "34 \t194   \t49.6167\t11.7713\t18 \t89 \n",
      "35 \t180   \t49.6167\t11.8753\t19 \t84 \n",
      "36 \t179   \t49.6167\t12.0356\t19 \t84 \n",
      "37 \t163   \t49.6167\t12.1385\t19 \t84 \n",
      "38 \t183   \t49.6167\t12.2601\t17 \t85 \n",
      "39 \t192   \t49.6167\t12.3937\t18 \t85 \n",
      "40 \t185   \t49.6167\t12.5529\t17 \t84 \n",
      "41 \t166   \t49.6167\t12.6798\t17 \t84 \n",
      "42 \t192   \t49.6167\t12.8215\t15 \t86 \n",
      "43 \t173   \t49.6167\t12.9611\t14 \t86 \n",
      "44 \t195   \t49.6167\t13.0776\t14 \t84 \n",
      "45 \t180   \t49.6167\t13.1956\t14 \t85 \n",
      "46 \t182   \t49.6167\t13.2694\t14 \t85 \n",
      "47 \t171   \t49.6167\t13.364 \t14 \t85 \n",
      "48 \t179   \t49.6167\t13.4552\t14 \t85 \n",
      "49 \t194   \t49.6167\t13.5859\t14 \t85 \n",
      "50 \t193   \t49.6167\t13.7204\t14 \t84 \n"
     ]
    }
   ],
   "source": [
    "toolbox.register(\"select\", tools.selWorst)\n",
    "stats = tools.Statistics(lambda ind: ind.fitness.values)\n",
    "stats.register(\"avg\", np.mean)\n",
    "stats.register(\"std\", np.std)\n",
    "stats.register(\"min\", np.min)\n",
    "stats.register(\"max\", np.max)\n",
    "pop = toolbox.population(n=300)\n",
    "pop, logbook = algorithms.eaSimple(pop, toolbox, cxpb=.5, mutpb=.2, ngen=50, stats=stats, verbose=True)"
   ]
  },
  {
   "cell_type": "code",
   "execution_count": 64,
   "id": "b32c50ff",
   "metadata": {},
   "outputs": [
    {
     "data": {
      "image/png": "[encoded data removed]",
      "text/plain": [
       "<Figure size 432x288 with 2 Axes>"
      ]
     },
     "metadata": {
      "needs_background": "light"
     },
     "output_type": "display_data"
    }
   ],
   "source": [
    "genT7_2 = logbook.select(\"gen\")\n",
    "fit_minT7_2 = logbook.select(\"min\")\n",
    "fit_avgT7_2 = logbook.select(\"avg\")\n",
    "\n",
    "fig, ax1 = plt.subplots()\n",
    "line1 = ax1.plot(genT7_2, fit_minT7_2, \"b\", label=\"Minimum\")\n",
    "ax1.set_xlabel(\"Generation\")\n",
    "ax1.set_ylabel(\"Fitness\", color=\"b\")\n",
    "\n",
    "ax2 = ax1.twinx()\n",
    "line2 = ax2.plot(genT7_2, fit_avgT7_2, \"r\", label=\"Average\")\n",
    "ax2.set_ylabel(\"Size\", color=\"r\")\n",
    "\n",
    "lns = line1 + line2\n",
    "labs = ['Minimum', 'Average']\n",
    "ax1.legend(lns, labs)\n",
    "\n",
    "plt.show()"
   ]
  },
  {
   "cell_type": "code",
   "execution_count": 65,
   "id": "3205d53e",
   "metadata": {},
   "outputs": [
    {
     "name": "stdout",
     "output_type": "stream",
     "text": [
      "gen\tnevals\tavg    \tstd    \tmin\tmax\n",
      "0  \t300   \t49.4467\t4.70253\t33 \t61 \n",
      "1  \t172   \t49.7667\t4.87841\t31 \t61 \n",
      "2  \t169   \t49.7   \t4.84527\t32 \t60 \n",
      "3  \t181   \t49.9233\t4.74526\t32 \t64 \n",
      "4  \t176   \t49.65  \t4.49676\t36 \t60 \n",
      "5  \t164   \t49.5467\t4.37049\t39 \t60 \n",
      "6  \t188   \t49.8567\t4.36686\t39 \t61 \n",
      "7  \t187   \t49.74  \t4.21257\t38 \t60 \n",
      "8  \t169   \t49.5433\t4.34835\t38 \t61 \n",
      "9  \t176   \t49.2067\t4.1973 \t38 \t60 \n",
      "10 \t170   \t49.3567\t4.59813\t38 \t60 \n",
      "11 \t186   \t49.35  \t4.98406\t36 \t63 \n",
      "12 \t167   \t49.18  \t4.79037\t34 \t62 \n",
      "13 \t192   \t48.7633\t5.05048\t34 \t63 \n",
      "14 \t175   \t49.3167\t5.05929\t37 \t63 \n",
      "15 \t192   \t49.5333\t5.12922\t36 \t63 \n",
      "16 \t180   \t49.55  \t4.67056\t39 \t63 \n",
      "17 \t198   \t49.2333\t4.6006 \t38 \t63 \n",
      "18 \t189   \t49.7233\t4.64113\t38 \t67 \n",
      "19 \t179   \t49.5233\t4.91421\t37 \t67 \n",
      "20 \t169   \t49.4667\t4.68354\t32 \t67 \n",
      "21 \t173   \t49.4367\t4.91114\t36 \t63 \n",
      "22 \t185   \t49.57  \t4.65959\t35 \t63 \n",
      "23 \t172   \t49.2733\t4.72144\t34 \t61 \n",
      "24 \t186   \t48.7933\t4.63867\t34 \t59 \n",
      "25 \t185   \t48.97  \t4.78426\t34 \t60 \n",
      "26 \t183   \t49.0567\t5.08201\t32 \t60 \n",
      "27 \t176   \t48.7433\t5.11509\t34 \t59 \n",
      "28 \t164   \t48.7267\t5.13536\t32 \t62 \n",
      "29 \t185   \t48.73  \t4.8198 \t34 \t60 \n",
      "30 \t178   \t48.7067\t4.8553 \t37 \t62 \n",
      "31 \t163   \t48.7567\t4.89668\t35 \t62 \n",
      "32 \t175   \t48.7433\t4.71142\t37 \t60 \n",
      "33 \t148   \t48.87  \t4.70742\t37 \t61 \n",
      "34 \t190   \t49.14  \t4.87925\t39 \t60 \n",
      "35 \t186   \t49.0667\t4.96678\t38 \t62 \n",
      "36 \t164   \t49.3367\t4.8597 \t38 \t61 \n",
      "37 \t164   \t49.1167\t4.77246\t37 \t61 \n",
      "38 \t200   \t49.3367\t4.83149\t37 \t61 \n",
      "39 \t188   \t49.3333\t4.7204 \t36 \t61 \n",
      "40 \t175   \t49.37  \t4.74761\t30 \t63 \n",
      "41 \t188   \t48.8533\t4.78175\t30 \t62 \n",
      "42 \t191   \t48.4967\t4.97024\t30 \t63 \n",
      "43 \t187   \t48.1067\t4.90122\t34 \t64 \n",
      "44 \t195   \t47.9867\t4.85728\t36 \t64 \n",
      "45 \t164   \t48.1767\t5.04567\t36 \t66 \n",
      "46 \t169   \t48.3533\t4.94926\t36 \t65 \n",
      "47 \t196   \t48.6467\t5.15705\t32 \t65 \n",
      "48 \t175   \t48.5133\t5.21311\t32 \t65 \n",
      "49 \t170   \t48.5333\t5.56377\t32 \t66 \n",
      "50 \t169   \t48.5133\t5.87621\t32 \t65 \n"
     ]
    }
   ],
   "source": [
    "toolbox.register(\"select\", tools.selRandom)\n",
    "stats = tools.Statistics(lambda ind: ind.fitness.values)\n",
    "stats.register(\"avg\", np.mean)\n",
    "stats.register(\"std\", np.std)\n",
    "stats.register(\"min\", np.min)\n",
    "stats.register(\"max\", np.max)\n",
    "pop = toolbox.population(n=300)\n",
    "pop, logbook = algorithms.eaSimple(pop, toolbox, cxpb=.5, mutpb=.2, ngen=50, stats=stats, verbose=True)"
   ]
  },
  {
   "cell_type": "code",
   "execution_count": 66,
   "id": "84e27822",
   "metadata": {},
   "outputs": [
    {
     "data": {
      "image/png": "[encoded data removed]",
      "text/plain": [
       "<Figure size 432x288 with 2 Axes>"
      ]
     },
     "metadata": {
      "needs_background": "light"
     },
     "output_type": "display_data"
    }
   ],
   "source": [
    "genT7_2 = logbook.select(\"gen\")\n",
    "fit_minT7_2 = logbook.select(\"min\")\n",
    "fit_avgT7_2 = logbook.select(\"avg\")\n",
    "\n",
    "fig, ax1 = plt.subplots()\n",
    "line1 = ax1.plot(genT7_2, fit_minT7_2, \"b\", label=\"Minimum\")\n",
    "ax1.set_xlabel(\"Generation\")\n",
    "ax1.set_ylabel(\"Fitness\", color=\"b\")\n",
    "\n",
    "ax2 = ax1.twinx()\n",
    "line2 = ax2.plot(genT7_2, fit_avgT7_2, \"r\", label=\"Average\")\n",
    "ax2.set_ylabel(\"Size\", color=\"r\")\n",
    "\n",
    "lns = line1 + line2\n",
    "labs = ['Minimum', 'Average']\n",
    "ax1.legend(lns, labs)\n",
    "\n",
    "plt.show()"
   ]
  },
  {
   "cell_type": "code",
   "execution_count": null,
   "id": "0f8d0da6",
   "metadata": {},
   "outputs": [],
   "source": []
  }
 ],
 "metadata": {
  "kernelspec": {
   "display_name": "Python 3",
   "language": "python",
   "name": "python3"
  },
  "language_info": {
   "codemirror_mode": {
    "name": "ipython",
    "version": 3
   },
   "file_extension": ".py",
   "mimetype": "text/x-python",
   "name": "python",
   "nbconvert_exporter": "python",
   "pygments_lexer": "ipython3",
   "version": "3.8.8"
  }
 },
 "nbformat": 4,
 "nbformat_minor": 5
}
