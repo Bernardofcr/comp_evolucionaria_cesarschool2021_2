{
 "cells": [
  {
   "cell_type": "markdown",
   "id": "16005432",
   "metadata": {},
   "source": [
    "Implemente algoritmo para chegar no final do labirinto"
   ]
  },
  {
   "cell_type": "code",
   "execution_count": 1,
   "id": "96091f54",
   "metadata": {},
   "outputs": [],
   "source": [
    "import random\n",
    "import numpy as np\n",
    "from deap import algorithms, base, creator, tools"
   ]
  },
  {
   "cell_type": "markdown",
   "id": "05f82d99",
   "metadata": {},
   "source": [
    "importar labirinto"
   ]
  },
  {
   "cell_type": "code",
   "execution_count": 6,
   "id": "d1d60a25",
   "metadata": {},
   "outputs": [],
   "source": [
    "mazeOriginal=[]\n",
    "with open (\"maze.txt\") as f:\n",
    "    for line in f.read().splitlines():\n",
    "        mazeOriginal.append(list(line))"
   ]
  },
  {
   "cell_type": "code",
   "execution_count": 9,
   "id": "b9bedc7e",
   "metadata": {},
   "outputs": [
    {
     "data": {
      "text/plain": [
       "[['#', '#', '#', '#', '#', '#', '#', '#', '#', '#', '#', '#', '#', '#', '#'],\n",
       " ['E', ' ', ' ', ' ', ' ', ' ', ' ', ' ', ' ', ' ', ' ', ' ', ' ', ' ', '#'],\n",
       " ['#', ' ', '#', '#', '#', '#', ' ', '#', ' ', '#', '#', '#', ' ', ' ', '#'],\n",
       " ['#', ' ', '#', '#', '#', '#', ' ', '#', ' ', '#', '#', '#', ' ', ' ', '#'],\n",
       " ['#', ' ', '#', '#', '#', '#', '#', '#', ' ', '#', ' ', '#', ' ', ' ', '#'],\n",
       " ['#', ' ', '#', '#', '#', '#', ' ', ' ', ' ', '#', ' ', '#', ' ', ' ', '#'],\n",
       " ['#', ' ', '#', '#', '#', '#', '#', '#', '#', '#', ' ', '#', '#', ' ', '#'],\n",
       " ['#', ' ', '#', '#', '#', ' ', ' ', ' ', ' ', ' ', ' ', '#', '#', ' ', '#'],\n",
       " ['#', ' ', ' ', ' ', ' ', ' ', '#', '#', '#', '#', '#', '#', '#', ' ', '#'],\n",
       " ['#', '#', '#', '#', '#', '#', '#', '#', '#', '#', '#', '#', '#', 'S', '#']]"
      ]
     },
     "execution_count": 9,
     "metadata": {},
     "output_type": "execute_result"
    }
   ],
   "source": [
    "mazeOriginal"
   ]
  },
  {
   "cell_type": "code",
   "execution_count": 10,
   "id": "3c3666a2",
   "metadata": {},
   "outputs": [],
   "source": [
    "rows=10\n",
    "cols=15\n",
    "wall=\"#\"\n",
    "space=\" \"\n",
    "player=\"P\"\n",
    "start=\"E\"\n",
    "end=\"S\""
   ]
  },
  {
   "cell_type": "code",
   "execution_count": null,
   "id": "be03e076",
   "metadata": {},
   "outputs": [],
   "source": [
    "startP=(1,0)\n",
    "endP=(9,13)"
   ]
  },
  {
   "cell_type": "markdown",
   "id": "fa63a3f0",
   "metadata": {},
   "source": [
    "Definição de movimentos"
   ]
  },
  {
   "cell_type": "code",
   "execution_count": null,
   "id": "4e873f26",
   "metadata": {},
   "outputs": [],
   "source": [
    "def isWall(position,maze):\n",
    "    if (maze[position[0]][position[1]]==\"#\"):\n",
    "        return True\n",
    "    else:\n",
    "        return False\n",
    "\n",
    "def isSpace(position):\n",
    "    if (maze[position[0]][position[1]]==\" \"):\n",
    "        return True\n",
    "    else:\n",
    "        return False\n",
    "    \n",
    "def isEnd(position):\n",
    "    if (maze[position[0]][position[1]]==\"S\"):\n",
    "        return True\n",
    "    else:\n",
    "        return False"
   ]
  },
  {
   "cell_type": "code",
   "execution_count": 12,
   "id": "350c6562",
   "metadata": {},
   "outputs": [],
   "source": [
    "def updateBoard(nextP,playP,maze):\n",
    "    if (isWall(nextP)):\n",
    "        return playP\n",
    "    if (isSpace(nextP)):\n",
    "        maze[nextP[0]][nextP[1]]=\"P\"\n",
    "        return nextP\n",
    "    if (isEnd(nextP)):\n",
    "        maze[nextP[0]][nextP[1]]=\"P\"\n",
    "        return nextP "
   ]
  },
  {
   "cell_type": "code",
   "execution_count": 13,
   "id": "d0c211df",
   "metadata": {},
   "outputs": [],
   "source": [
    "def moveUp(playP,maze):\n",
    "    if (playP[0]-1<0):\n",
    "        return\n",
    "    nextP=(playP[0]-1,playP[1])\n",
    "    updateBoard(nextP,playP,maze)\n",
    "    \n",
    "def moveDown(playP,maze):\n",
    "    nextP=(playP[0]+1,playP[1])\n",
    "    updateBoard(nextP,playP,maze)\n",
    "    \n",
    "def moveleft(playP,maze):\n",
    "    if (playP[1]-1<0):\n",
    "        return\n",
    "    nextP=(playP[0],playP[1]-1)\n",
    "    updateBoard(nextP,playP,maze)\n",
    "    \n",
    "def moveRight(playP,maze):\n",
    "    nextP=(playP[0],playP[1]+1)\n",
    "    updateBoard(nextP,playP,maze)"
   ]
  },
  {
   "cell_type": "code",
   "execution_count": null,
   "id": "84cf1b48",
   "metadata": {},
   "outputs": [],
   "source": [
    "def move(move, playP, maze):\n",
    "    if (move==0: #no move\n",
    "        return\n",
    "    if (move==1):# up\n",
    "        moveUp(playP,maze)\n",
    "    if (move==2):# down\n",
    "        moveDown(playP,maze)\n",
    "    if (move==3):#left\n",
    "        moveLeft(playP,maze)\n",
    "    if (move==4):#right\n",
    "        moveRight(playP,maze)"
   ]
  },
  {
   "cell_type": "markdown",
   "id": "24fc5329",
   "metadata": {},
   "source": [
    "inicialização de algoritmo"
   ]
  },
  {
   "cell_type": "code",
   "execution_count": 2,
   "id": "7ec22e12",
   "metadata": {},
   "outputs": [],
   "source": [
    "creator.create(\"FitnessMax\", base.Fitness, weights=(1.0,))\n",
    "creator.create(\"Individual\", list, fitness=creator.FitnessMax)"
   ]
  },
  {
   "cell_type": "code",
   "execution_count": 4,
   "id": "98723211",
   "metadata": {},
   "outputs": [],
   "source": [
    "pop_size=50\n",
    "toolbox=base.Toolbox()\n",
    "toolbox.register(\"attr_float\", random.random)\n",
    "toolbox.register(\"individual\", tools.initRepeat, creator.Individual,toolbox.attr_float, n=pop_size)"
   ]
  },
  {
   "cell_type": "code",
   "execution_count": null,
   "id": "2bdba898",
   "metadata": {},
   "outputs": [],
   "source": []
  }
 ],
 "metadata": {
  "kernelspec": {
   "display_name": "Python 3",
   "language": "python",
   "name": "python3"
  },
  "language_info": {
   "codemirror_mode": {
    "name": "ipython",
    "version": 3
   },
   "file_extension": ".py",
   "mimetype": "text/x-python",
   "name": "python",
   "nbconvert_exporter": "python",
   "pygments_lexer": "ipython3",
   "version": "3.8.8"
  }
 },
 "nbformat": 4,
 "nbformat_minor": 5
}
