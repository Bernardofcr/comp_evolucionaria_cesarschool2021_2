{
 "cells": [
  {
   "cell_type": "code",
   "execution_count": 1,
   "id": "e176d378",
   "metadata": {},
   "outputs": [],
   "source": [
    "import numpy as np\n",
    "\n",
    "import array, random, time, copy\n",
    "from deap import base, creator, benchmarks, tools, algorithms\n",
    "import time\n",
    "\n",
    "from matplotlib import cm\n",
    "import matplotlib.pyplot as plt\n",
    "\n",
    "random.seed(42)"
   ]
  },
  {
   "cell_type": "code",
   "execution_count": 2,
   "id": "c7cba9da",
   "metadata": {},
   "outputs": [],
   "source": [
    "import seaborn as sns\n",
    "\n",
    "sns.set(style='whitegrid')\n",
    "sns.set_context('notebook')"
   ]
  },
  {
   "cell_type": "markdown",
   "id": "41f63dc2",
   "metadata": {},
   "source": [
    "$$\\text{Esfera:  } f(\\mathbf{x}) = \\sum_{i=0}^{N-1}x_i^2 $$"
   ]
  },
  {
   "cell_type": "code",
   "execution_count": 3,
   "id": "de2af219",
   "metadata": {},
   "outputs": [],
   "source": [
    "target = 0 # é esperado que o resultado final seja zero\n",
    "n_gens=500 # para testes iniciais vão ser feitas 500 gerações\n",
    "indivual_sizes=[2, 10, 20, 50, 100, 200] # lista de tamanhos de individuos a serem testados"
   ]
  },
  {
   "cell_type": "markdown",
   "id": "a1ebb0d3",
   "metadata": {},
   "source": [
    "#### funções criadas para possibilitar o uso da estrategia evolucionaria 1+1"
   ]
  },
  {
   "cell_type": "code",
   "execution_count": 4,
   "id": "cc23ded5",
   "metadata": {},
   "outputs": [],
   "source": [
    "def sphere(ind):\n",
    "    result=0\n",
    "    for i in ind:\n",
    "        result = (i**2) + result\n",
    "    return result \n",
    "# como os números são elevados ao quadrado,esse resultado \n",
    "#sempre é positivo, por isso não precisa ser tratado para \n",
    "#números negativos\n",
    "\n",
    "def mate(ind):\n",
    "    new_ind=[]\n",
    "    for i in ind:\n",
    "        new_ind.append(i+np.random.normal(0,1))\n",
    "    return new_ind\n",
    "\n",
    "\n",
    "def select_ind(ind1, ind2):\n",
    "    if sphere(ind1) < sphere(ind2):\n",
    "        return ind1\n",
    "    else:\n",
    "        return ind2\n",
    "    \n",
    "def es_one_plus_one(ind_size, n_gen):# (1+1) estrategia evolucionaria\n",
    "    results = []\n",
    "    ind = [random.uniform(-100,100) for i in range(ind_size)]\n",
    "    for i in range(n_gen):\n",
    "        new_ind = mate(ind)\n",
    "        ind = select_ind(ind, new_ind)\n",
    "        results.append(ind)\n",
    "    return results, ind"
   ]
  },
  {
   "cell_type": "code",
   "execution_count": null,
   "id": "e455e812",
   "metadata": {},
   "outputs": [],
   "source": []
  },
  {
   "cell_type": "code",
   "execution_count": null,
   "id": "cd8e0b8d",
   "metadata": {},
   "outputs": [],
   "source": []
  }
 ],
 "metadata": {
  "kernelspec": {
   "display_name": "Python 3",
   "language": "python",
   "name": "python3"
  },
  "language_info": {
   "codemirror_mode": {
    "name": "ipython",
    "version": 3
   },
   "file_extension": ".py",
   "mimetype": "text/x-python",
   "name": "python",
   "nbconvert_exporter": "python",
   "pygments_lexer": "ipython3",
   "version": "3.8.8"
  }
 },
 "nbformat": 4,
 "nbformat_minor": 5
}
